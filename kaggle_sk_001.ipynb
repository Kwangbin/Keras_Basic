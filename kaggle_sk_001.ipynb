{
  "nbformat": 4,
  "nbformat_minor": 0,
  "metadata": {
    "colab": {
      "name": "kaggle_sk_001.ipynb",
      "provenance": [],
      "mount_file_id": "17IAVWwoT5JSlzV-dlsFufcViilAtL7Ie",
      "authorship_tag": "ABX9TyOt6wmHOEK2ZvLT5mU3JKkM",
      "include_colab_link": true
    },
    "kernelspec": {
      "name": "python3",
      "display_name": "Python 3"
    },
    "language_info": {
      "name": "python"
    }
  },
  "cells": [
    {
      "cell_type": "markdown",
      "metadata": {
        "id": "view-in-github",
        "colab_type": "text"
      },
      "source": [
        "<a href=\"https://colab.research.google.com/github/Kwangbin/Keras_Basic/blob/main/kaggle_sk_001.ipynb\" target=\"_parent\"><img src=\"https://colab.research.google.com/assets/colab-badge.svg\" alt=\"Open In Colab\"/></a>"
      ]
    },
    {
      "cell_type": "code",
      "metadata": {
        "id": "APUa9vsUI0st",
        "colab": {
          "base_uri": "https://localhost:8080/"
        },
        "outputId": "920094b4-01e6-4835-b652-2c7bdf13ea6c"
      },
      "source": [
        "from google.colab import drive\n",
        "drive.mount('/content/drive')"
      ],
      "execution_count": 1,
      "outputs": [
        {
          "output_type": "stream",
          "text": [
            "Drive already mounted at /content/drive; to attempt to forcibly remount, call drive.mount(\"/content/drive\", force_remount=True).\n"
          ],
          "name": "stdout"
        }
      ]
    },
    {
      "cell_type": "code",
      "metadata": {
        "colab": {
          "base_uri": "https://localhost:8080/"
        },
        "id": "jBx0Rp2tz-Nw",
        "outputId": "bb163f3b-1823-4cd5-f125-eb92bd96d1e0"
      },
      "source": [
        "cd drive/MyDrive/ml/kaggle/sk_data1/"
      ],
      "execution_count": 2,
      "outputs": [
        {
          "output_type": "stream",
          "text": [
            "/content/drive/MyDrive/ml/kaggle/sk_data1\n"
          ],
          "name": "stdout"
        }
      ]
    },
    {
      "cell_type": "code",
      "metadata": {
        "colab": {
          "base_uri": "https://localhost:8080/"
        },
        "id": "nVJmTfLM0PL1",
        "outputId": "45b6bc4d-0aba-4d77-d1ad-9305b60bc1b4"
      },
      "source": [
        "ls"
      ],
      "execution_count": 3,
      "outputs": [
        {
          "output_type": "stream",
          "text": [
            "sample_submission.csv  test.csv  train.csv\n"
          ],
          "name": "stdout"
        }
      ]
    },
    {
      "cell_type": "code",
      "metadata": {
        "id": "1U3SpNnC0QUb"
      },
      "source": [
        "import os\n",
        "import pandas as pd\n",
        "import numpy as np\n",
        "\n",
        "import warnings\n",
        "warnings.filterwarnings(action='ignore')"
      ],
      "execution_count": 4,
      "outputs": []
    },
    {
      "cell_type": "code",
      "metadata": {
        "id": "TEwZ0xTN0SeD"
      },
      "source": [
        "train = pd.read_csv('train.csv')\n",
        "test  = pd.read_csv('test.csv')"
      ],
      "execution_count": 5,
      "outputs": []
    },
    {
      "cell_type": "code",
      "metadata": {
        "colab": {
          "base_uri": "https://localhost:8080/",
          "height": 288
        },
        "id": "ii4qiiuQ0cf6",
        "outputId": "f8f3915c-300f-483b-97b1-8c76aa51d831"
      },
      "source": [
        "train.head()"
      ],
      "execution_count": 6,
      "outputs": [
        {
          "output_type": "execute_result",
          "data": {
            "text/html": [
              "<div>\n",
              "<style scoped>\n",
              "    .dataframe tbody tr th:only-of-type {\n",
              "        vertical-align: middle;\n",
              "    }\n",
              "\n",
              "    .dataframe tbody tr th {\n",
              "        vertical-align: top;\n",
              "    }\n",
              "\n",
              "    .dataframe thead th {\n",
              "        text-align: right;\n",
              "    }\n",
              "</style>\n",
              "<table border=\"1\" class=\"dataframe\">\n",
              "  <thead>\n",
              "    <tr style=\"text-align: right;\">\n",
              "      <th></th>\n",
              "      <th>id</th>\n",
              "      <th>age</th>\n",
              "      <th>workclass</th>\n",
              "      <th>fnlwgt</th>\n",
              "      <th>education</th>\n",
              "      <th>education_num</th>\n",
              "      <th>marital_status</th>\n",
              "      <th>occupation</th>\n",
              "      <th>relationship</th>\n",
              "      <th>race</th>\n",
              "      <th>sex</th>\n",
              "      <th>capital_gain</th>\n",
              "      <th>capital_loss</th>\n",
              "      <th>hours_per_week</th>\n",
              "      <th>native_country</th>\n",
              "      <th>income</th>\n",
              "    </tr>\n",
              "  </thead>\n",
              "  <tbody>\n",
              "    <tr>\n",
              "      <th>0</th>\n",
              "      <td>0</td>\n",
              "      <td>40</td>\n",
              "      <td>Private</td>\n",
              "      <td>168538</td>\n",
              "      <td>HS-grad</td>\n",
              "      <td>9</td>\n",
              "      <td>Married-civ-spouse</td>\n",
              "      <td>Sales</td>\n",
              "      <td>Husband</td>\n",
              "      <td>White</td>\n",
              "      <td>Male</td>\n",
              "      <td>0</td>\n",
              "      <td>0</td>\n",
              "      <td>60</td>\n",
              "      <td>United-States</td>\n",
              "      <td>&gt;50K</td>\n",
              "    </tr>\n",
              "    <tr>\n",
              "      <th>1</th>\n",
              "      <td>1</td>\n",
              "      <td>17</td>\n",
              "      <td>Private</td>\n",
              "      <td>101626</td>\n",
              "      <td>9th</td>\n",
              "      <td>5</td>\n",
              "      <td>Never-married</td>\n",
              "      <td>Machine-op-inspct</td>\n",
              "      <td>Own-child</td>\n",
              "      <td>White</td>\n",
              "      <td>Male</td>\n",
              "      <td>0</td>\n",
              "      <td>0</td>\n",
              "      <td>20</td>\n",
              "      <td>United-States</td>\n",
              "      <td>&lt;=50K</td>\n",
              "    </tr>\n",
              "    <tr>\n",
              "      <th>2</th>\n",
              "      <td>2</td>\n",
              "      <td>18</td>\n",
              "      <td>Private</td>\n",
              "      <td>353358</td>\n",
              "      <td>Some-college</td>\n",
              "      <td>10</td>\n",
              "      <td>Never-married</td>\n",
              "      <td>Other-service</td>\n",
              "      <td>Own-child</td>\n",
              "      <td>White</td>\n",
              "      <td>Male</td>\n",
              "      <td>0</td>\n",
              "      <td>0</td>\n",
              "      <td>16</td>\n",
              "      <td>United-States</td>\n",
              "      <td>&lt;=50K</td>\n",
              "    </tr>\n",
              "    <tr>\n",
              "      <th>3</th>\n",
              "      <td>3</td>\n",
              "      <td>21</td>\n",
              "      <td>Private</td>\n",
              "      <td>151158</td>\n",
              "      <td>Some-college</td>\n",
              "      <td>10</td>\n",
              "      <td>Never-married</td>\n",
              "      <td>Prof-specialty</td>\n",
              "      <td>Own-child</td>\n",
              "      <td>White</td>\n",
              "      <td>Female</td>\n",
              "      <td>0</td>\n",
              "      <td>0</td>\n",
              "      <td>25</td>\n",
              "      <td>United-States</td>\n",
              "      <td>&lt;=50K</td>\n",
              "    </tr>\n",
              "    <tr>\n",
              "      <th>4</th>\n",
              "      <td>4</td>\n",
              "      <td>24</td>\n",
              "      <td>Private</td>\n",
              "      <td>122234</td>\n",
              "      <td>Some-college</td>\n",
              "      <td>10</td>\n",
              "      <td>Never-married</td>\n",
              "      <td>Adm-clerical</td>\n",
              "      <td>Not-in-family</td>\n",
              "      <td>Black</td>\n",
              "      <td>Female</td>\n",
              "      <td>0</td>\n",
              "      <td>0</td>\n",
              "      <td>20</td>\n",
              "      <td>?</td>\n",
              "      <td>&lt;=50K</td>\n",
              "    </tr>\n",
              "  </tbody>\n",
              "</table>\n",
              "</div>"
            ],
            "text/plain": [
              "   id  age workclass  ...  hours_per_week native_country  income\n",
              "0   0   40   Private  ...              60  United-States    >50K\n",
              "1   1   17   Private  ...              20  United-States   <=50K\n",
              "2   2   18   Private  ...              16  United-States   <=50K\n",
              "3   3   21   Private  ...              25  United-States   <=50K\n",
              "4   4   24   Private  ...              20              ?   <=50K\n",
              "\n",
              "[5 rows x 16 columns]"
            ]
          },
          "metadata": {
            "tags": []
          },
          "execution_count": 6
        }
      ]
    },
    {
      "cell_type": "markdown",
      "metadata": {
        "id": "0sXsscJg0kWS"
      },
      "source": [
        "id \n",
        "age : 나이 \n",
        "workclass : 고용 형태 \n",
        "fnlwgt : 사람 대표성을 나타내는 가중치 (final weight의 약자) \n",
        "education : 교육 수준 \n",
        "education_num : 교육 수준 수치 \n",
        "marital_status: 결혼 상태 \n",
        "occupation : 업종 \n",
        "relationship : 가족 관계 \n",
        "race : 인종 \n",
        "sex : 성별 \n",
        "capital_gain : 양도 소득 \n",
        "capital_loss : 양도 손실 \n",
        "hours_per_week : 주당 근무 시간 \n",
        "native_country : 국적 \n",
        "income : 수익 (예측해야 하는 값) \n",
        ">50K : 1 \n",
        "<=50K : 0 "
      ]
    },
    {
      "cell_type": "code",
      "metadata": {
        "colab": {
          "base_uri": "https://localhost:8080/"
        },
        "id": "6q8UnxbP1KP1",
        "outputId": "177650f8-5da7-47fb-dc3c-6557928b8c1e"
      },
      "source": [
        "train.info()"
      ],
      "execution_count": 7,
      "outputs": [
        {
          "output_type": "stream",
          "text": [
            "<class 'pandas.core.frame.DataFrame'>\n",
            "RangeIndex: 26049 entries, 0 to 26048\n",
            "Data columns (total 16 columns):\n",
            " #   Column          Non-Null Count  Dtype \n",
            "---  ------          --------------  ----- \n",
            " 0   id              26049 non-null  int64 \n",
            " 1   age             26049 non-null  int64 \n",
            " 2   workclass       26049 non-null  object\n",
            " 3   fnlwgt          26049 non-null  int64 \n",
            " 4   education       26049 non-null  object\n",
            " 5   education_num   26049 non-null  int64 \n",
            " 6   marital_status  26049 non-null  object\n",
            " 7   occupation      26049 non-null  object\n",
            " 8   relationship    26049 non-null  object\n",
            " 9   race            26049 non-null  object\n",
            " 10  sex             26049 non-null  object\n",
            " 11  capital_gain    26049 non-null  int64 \n",
            " 12  capital_loss    26049 non-null  int64 \n",
            " 13  hours_per_week  26049 non-null  int64 \n",
            " 14  native_country  26049 non-null  object\n",
            " 15  income          26049 non-null  object\n",
            "dtypes: int64(7), object(9)\n",
            "memory usage: 3.2+ MB\n"
          ],
          "name": "stdout"
        }
      ]
    },
    {
      "cell_type": "markdown",
      "metadata": {
        "id": "pJH1QXIt1dr1"
      },
      "source": [
        "csv 가 dataframe으로 올라오면 Dtype 으로 고정 되어 커진다즉 0이 한바이트가 int64로 되서 64바리트로 고정"
      ]
    },
    {
      "cell_type": "markdown",
      "metadata": {
        "id": "esGEXNZ52N0o"
      },
      "source": [
        "즉, 읽어오는 데이터 타입을 고정 하여 메모리 사용 량을 줄인다"
      ]
    },
    {
      "cell_type": "markdown",
      "metadata": {
        "id": "_xoKabZe2ca2"
      },
      "source": [
        "먼저 descrive로 속성 파악"
      ]
    },
    {
      "cell_type": "code",
      "metadata": {
        "id": "ECKp6J-L2VQk"
      },
      "source": [
        "train = pd.read_csv('train.csv')"
      ],
      "execution_count": 8,
      "outputs": []
    },
    {
      "cell_type": "code",
      "metadata": {
        "colab": {
          "base_uri": "https://localhost:8080/",
          "height": 294
        },
        "id": "BRo4q4Tt2oBm",
        "outputId": "d1605f15-a4d8-4439-8ee9-9f4f8602ce5b"
      },
      "source": [
        "# 오브젝트는 않나온다  수치데이터만 나온다\n",
        "# 이상데이터 확인\n",
        "train.describe()"
      ],
      "execution_count": 9,
      "outputs": [
        {
          "output_type": "execute_result",
          "data": {
            "text/html": [
              "<div>\n",
              "<style scoped>\n",
              "    .dataframe tbody tr th:only-of-type {\n",
              "        vertical-align: middle;\n",
              "    }\n",
              "\n",
              "    .dataframe tbody tr th {\n",
              "        vertical-align: top;\n",
              "    }\n",
              "\n",
              "    .dataframe thead th {\n",
              "        text-align: right;\n",
              "    }\n",
              "</style>\n",
              "<table border=\"1\" class=\"dataframe\">\n",
              "  <thead>\n",
              "    <tr style=\"text-align: right;\">\n",
              "      <th></th>\n",
              "      <th>id</th>\n",
              "      <th>age</th>\n",
              "      <th>fnlwgt</th>\n",
              "      <th>education_num</th>\n",
              "      <th>capital_gain</th>\n",
              "      <th>capital_loss</th>\n",
              "      <th>hours_per_week</th>\n",
              "    </tr>\n",
              "  </thead>\n",
              "  <tbody>\n",
              "    <tr>\n",
              "      <th>count</th>\n",
              "      <td>26049.000000</td>\n",
              "      <td>26049.000000</td>\n",
              "      <td>2.604900e+04</td>\n",
              "      <td>26049.000000</td>\n",
              "      <td>26049.00000</td>\n",
              "      <td>26049.000000</td>\n",
              "      <td>26049.000000</td>\n",
              "    </tr>\n",
              "    <tr>\n",
              "      <th>mean</th>\n",
              "      <td>13024.000000</td>\n",
              "      <td>38.569235</td>\n",
              "      <td>1.903045e+05</td>\n",
              "      <td>10.088372</td>\n",
              "      <td>1087.68970</td>\n",
              "      <td>87.732734</td>\n",
              "      <td>40.443126</td>\n",
              "    </tr>\n",
              "    <tr>\n",
              "      <th>std</th>\n",
              "      <td>7519.842917</td>\n",
              "      <td>13.671489</td>\n",
              "      <td>1.059663e+05</td>\n",
              "      <td>2.567610</td>\n",
              "      <td>7388.85469</td>\n",
              "      <td>403.230205</td>\n",
              "      <td>12.361850</td>\n",
              "    </tr>\n",
              "    <tr>\n",
              "      <th>min</th>\n",
              "      <td>0.000000</td>\n",
              "      <td>17.000000</td>\n",
              "      <td>1.376900e+04</td>\n",
              "      <td>1.000000</td>\n",
              "      <td>0.00000</td>\n",
              "      <td>0.000000</td>\n",
              "      <td>1.000000</td>\n",
              "    </tr>\n",
              "    <tr>\n",
              "      <th>25%</th>\n",
              "      <td>6512.000000</td>\n",
              "      <td>28.000000</td>\n",
              "      <td>1.181080e+05</td>\n",
              "      <td>9.000000</td>\n",
              "      <td>0.00000</td>\n",
              "      <td>0.000000</td>\n",
              "      <td>40.000000</td>\n",
              "    </tr>\n",
              "    <tr>\n",
              "      <th>50%</th>\n",
              "      <td>13024.000000</td>\n",
              "      <td>37.000000</td>\n",
              "      <td>1.788660e+05</td>\n",
              "      <td>10.000000</td>\n",
              "      <td>0.00000</td>\n",
              "      <td>0.000000</td>\n",
              "      <td>40.000000</td>\n",
              "    </tr>\n",
              "    <tr>\n",
              "      <th>75%</th>\n",
              "      <td>19536.000000</td>\n",
              "      <td>48.000000</td>\n",
              "      <td>2.377350e+05</td>\n",
              "      <td>12.000000</td>\n",
              "      <td>0.00000</td>\n",
              "      <td>0.000000</td>\n",
              "      <td>45.000000</td>\n",
              "    </tr>\n",
              "    <tr>\n",
              "      <th>max</th>\n",
              "      <td>26048.000000</td>\n",
              "      <td>90.000000</td>\n",
              "      <td>1.484705e+06</td>\n",
              "      <td>16.000000</td>\n",
              "      <td>99999.00000</td>\n",
              "      <td>4356.000000</td>\n",
              "      <td>99.000000</td>\n",
              "    </tr>\n",
              "  </tbody>\n",
              "</table>\n",
              "</div>"
            ],
            "text/plain": [
              "                 id           age  ...  capital_loss  hours_per_week\n",
              "count  26049.000000  26049.000000  ...  26049.000000    26049.000000\n",
              "mean   13024.000000     38.569235  ...     87.732734       40.443126\n",
              "std     7519.842917     13.671489  ...    403.230205       12.361850\n",
              "min        0.000000     17.000000  ...      0.000000        1.000000\n",
              "25%     6512.000000     28.000000  ...      0.000000       40.000000\n",
              "50%    13024.000000     37.000000  ...      0.000000       40.000000\n",
              "75%    19536.000000     48.000000  ...      0.000000       45.000000\n",
              "max    26048.000000     90.000000  ...   4356.000000       99.000000\n",
              "\n",
              "[8 rows x 7 columns]"
            ]
          },
          "metadata": {
            "tags": []
          },
          "execution_count": 9
        }
      ]
    },
    {
      "cell_type": "code",
      "metadata": {
        "colab": {
          "base_uri": "https://localhost:8080/",
          "height": 492
        },
        "id": "11E8PiP40i9j",
        "outputId": "f6f6b506-6fa6-456e-d5d4-c4f73f5688a2"
      },
      "source": [
        "#데이터 확인\n",
        "train.sample(10)"
      ],
      "execution_count": 10,
      "outputs": [
        {
          "output_type": "execute_result",
          "data": {
            "text/html": [
              "<div>\n",
              "<style scoped>\n",
              "    .dataframe tbody tr th:only-of-type {\n",
              "        vertical-align: middle;\n",
              "    }\n",
              "\n",
              "    .dataframe tbody tr th {\n",
              "        vertical-align: top;\n",
              "    }\n",
              "\n",
              "    .dataframe thead th {\n",
              "        text-align: right;\n",
              "    }\n",
              "</style>\n",
              "<table border=\"1\" class=\"dataframe\">\n",
              "  <thead>\n",
              "    <tr style=\"text-align: right;\">\n",
              "      <th></th>\n",
              "      <th>id</th>\n",
              "      <th>age</th>\n",
              "      <th>workclass</th>\n",
              "      <th>fnlwgt</th>\n",
              "      <th>education</th>\n",
              "      <th>education_num</th>\n",
              "      <th>marital_status</th>\n",
              "      <th>occupation</th>\n",
              "      <th>relationship</th>\n",
              "      <th>race</th>\n",
              "      <th>sex</th>\n",
              "      <th>capital_gain</th>\n",
              "      <th>capital_loss</th>\n",
              "      <th>hours_per_week</th>\n",
              "      <th>native_country</th>\n",
              "      <th>income</th>\n",
              "    </tr>\n",
              "  </thead>\n",
              "  <tbody>\n",
              "    <tr>\n",
              "      <th>17910</th>\n",
              "      <td>17910</td>\n",
              "      <td>33</td>\n",
              "      <td>Local-gov</td>\n",
              "      <td>55921</td>\n",
              "      <td>Assoc-voc</td>\n",
              "      <td>11</td>\n",
              "      <td>Never-married</td>\n",
              "      <td>Protective-serv</td>\n",
              "      <td>Not-in-family</td>\n",
              "      <td>White</td>\n",
              "      <td>Male</td>\n",
              "      <td>0</td>\n",
              "      <td>0</td>\n",
              "      <td>70</td>\n",
              "      <td>United-States</td>\n",
              "      <td>&lt;=50K</td>\n",
              "    </tr>\n",
              "    <tr>\n",
              "      <th>21372</th>\n",
              "      <td>21372</td>\n",
              "      <td>37</td>\n",
              "      <td>Private</td>\n",
              "      <td>26898</td>\n",
              "      <td>HS-grad</td>\n",
              "      <td>9</td>\n",
              "      <td>Divorced</td>\n",
              "      <td>Exec-managerial</td>\n",
              "      <td>Unmarried</td>\n",
              "      <td>White</td>\n",
              "      <td>Female</td>\n",
              "      <td>0</td>\n",
              "      <td>0</td>\n",
              "      <td>12</td>\n",
              "      <td>United-States</td>\n",
              "      <td>&lt;=50K</td>\n",
              "    </tr>\n",
              "    <tr>\n",
              "      <th>1938</th>\n",
              "      <td>1938</td>\n",
              "      <td>60</td>\n",
              "      <td>Federal-gov</td>\n",
              "      <td>119832</td>\n",
              "      <td>Some-college</td>\n",
              "      <td>10</td>\n",
              "      <td>Married-civ-spouse</td>\n",
              "      <td>Adm-clerical</td>\n",
              "      <td>Husband</td>\n",
              "      <td>White</td>\n",
              "      <td>Male</td>\n",
              "      <td>7298</td>\n",
              "      <td>0</td>\n",
              "      <td>40</td>\n",
              "      <td>United-States</td>\n",
              "      <td>&gt;50K</td>\n",
              "    </tr>\n",
              "    <tr>\n",
              "      <th>1884</th>\n",
              "      <td>1884</td>\n",
              "      <td>32</td>\n",
              "      <td>Private</td>\n",
              "      <td>396745</td>\n",
              "      <td>Bachelors</td>\n",
              "      <td>13</td>\n",
              "      <td>Married-civ-spouse</td>\n",
              "      <td>Prof-specialty</td>\n",
              "      <td>Husband</td>\n",
              "      <td>White</td>\n",
              "      <td>Male</td>\n",
              "      <td>0</td>\n",
              "      <td>2415</td>\n",
              "      <td>48</td>\n",
              "      <td>United-States</td>\n",
              "      <td>&gt;50K</td>\n",
              "    </tr>\n",
              "    <tr>\n",
              "      <th>7517</th>\n",
              "      <td>7517</td>\n",
              "      <td>21</td>\n",
              "      <td>State-gov</td>\n",
              "      <td>39236</td>\n",
              "      <td>Some-college</td>\n",
              "      <td>10</td>\n",
              "      <td>Never-married</td>\n",
              "      <td>Tech-support</td>\n",
              "      <td>Not-in-family</td>\n",
              "      <td>White</td>\n",
              "      <td>Female</td>\n",
              "      <td>0</td>\n",
              "      <td>0</td>\n",
              "      <td>50</td>\n",
              "      <td>United-States</td>\n",
              "      <td>&lt;=50K</td>\n",
              "    </tr>\n",
              "    <tr>\n",
              "      <th>15481</th>\n",
              "      <td>15481</td>\n",
              "      <td>43</td>\n",
              "      <td>Local-gov</td>\n",
              "      <td>115603</td>\n",
              "      <td>Some-college</td>\n",
              "      <td>10</td>\n",
              "      <td>Divorced</td>\n",
              "      <td>Adm-clerical</td>\n",
              "      <td>Unmarried</td>\n",
              "      <td>White</td>\n",
              "      <td>Female</td>\n",
              "      <td>0</td>\n",
              "      <td>0</td>\n",
              "      <td>40</td>\n",
              "      <td>United-States</td>\n",
              "      <td>&lt;=50K</td>\n",
              "    </tr>\n",
              "    <tr>\n",
              "      <th>2598</th>\n",
              "      <td>2598</td>\n",
              "      <td>33</td>\n",
              "      <td>Private</td>\n",
              "      <td>174789</td>\n",
              "      <td>Some-college</td>\n",
              "      <td>10</td>\n",
              "      <td>Never-married</td>\n",
              "      <td>Adm-clerical</td>\n",
              "      <td>Not-in-family</td>\n",
              "      <td>White</td>\n",
              "      <td>Male</td>\n",
              "      <td>0</td>\n",
              "      <td>0</td>\n",
              "      <td>50</td>\n",
              "      <td>United-States</td>\n",
              "      <td>&lt;=50K</td>\n",
              "    </tr>\n",
              "    <tr>\n",
              "      <th>21308</th>\n",
              "      <td>21308</td>\n",
              "      <td>42</td>\n",
              "      <td>Private</td>\n",
              "      <td>132633</td>\n",
              "      <td>HS-grad</td>\n",
              "      <td>9</td>\n",
              "      <td>Never-married</td>\n",
              "      <td>Priv-house-serv</td>\n",
              "      <td>Not-in-family</td>\n",
              "      <td>White</td>\n",
              "      <td>Female</td>\n",
              "      <td>0</td>\n",
              "      <td>0</td>\n",
              "      <td>40</td>\n",
              "      <td>?</td>\n",
              "      <td>&lt;=50K</td>\n",
              "    </tr>\n",
              "    <tr>\n",
              "      <th>2087</th>\n",
              "      <td>2087</td>\n",
              "      <td>54</td>\n",
              "      <td>Private</td>\n",
              "      <td>101890</td>\n",
              "      <td>HS-grad</td>\n",
              "      <td>9</td>\n",
              "      <td>Widowed</td>\n",
              "      <td>Sales</td>\n",
              "      <td>Unmarried</td>\n",
              "      <td>White</td>\n",
              "      <td>Female</td>\n",
              "      <td>0</td>\n",
              "      <td>0</td>\n",
              "      <td>40</td>\n",
              "      <td>United-States</td>\n",
              "      <td>&lt;=50K</td>\n",
              "    </tr>\n",
              "    <tr>\n",
              "      <th>6371</th>\n",
              "      <td>6371</td>\n",
              "      <td>38</td>\n",
              "      <td>Private</td>\n",
              "      <td>217349</td>\n",
              "      <td>Assoc-voc</td>\n",
              "      <td>11</td>\n",
              "      <td>Divorced</td>\n",
              "      <td>Prof-specialty</td>\n",
              "      <td>Not-in-family</td>\n",
              "      <td>White</td>\n",
              "      <td>Female</td>\n",
              "      <td>14344</td>\n",
              "      <td>0</td>\n",
              "      <td>40</td>\n",
              "      <td>United-States</td>\n",
              "      <td>&gt;50K</td>\n",
              "    </tr>\n",
              "  </tbody>\n",
              "</table>\n",
              "</div>"
            ],
            "text/plain": [
              "          id  age    workclass  ...  hours_per_week native_country  income\n",
              "17910  17910   33    Local-gov  ...              70  United-States   <=50K\n",
              "21372  21372   37      Private  ...              12  United-States   <=50K\n",
              "1938    1938   60  Federal-gov  ...              40  United-States    >50K\n",
              "1884    1884   32      Private  ...              48  United-States    >50K\n",
              "7517    7517   21    State-gov  ...              50  United-States   <=50K\n",
              "15481  15481   43    Local-gov  ...              40  United-States   <=50K\n",
              "2598    2598   33      Private  ...              50  United-States   <=50K\n",
              "21308  21308   42      Private  ...              40              ?   <=50K\n",
              "2087    2087   54      Private  ...              40  United-States   <=50K\n",
              "6371    6371   38      Private  ...              40  United-States    >50K\n",
              "\n",
              "[10 rows x 16 columns]"
            ]
          },
          "metadata": {
            "tags": []
          },
          "execution_count": 10
        }
      ]
    },
    {
      "cell_type": "code",
      "metadata": {
        "colab": {
          "base_uri": "https://localhost:8080/"
        },
        "id": "pUv4EyaU31fX",
        "outputId": "605e88c0-e0c2-426c-82fe-1a7304e6759d"
      },
      "source": [
        "#이상 데이터 항목 추가확인\n",
        "train.native_country.value_counts()"
      ],
      "execution_count": 11,
      "outputs": [
        {
          "output_type": "execute_result",
          "data": {
            "text/plain": [
              "United-States                 23371\n",
              "Mexico                          534\n",
              "?                               456\n",
              "Philippines                     163\n",
              "Germany                         101\n",
              "Puerto-Rico                      95\n",
              "Canada                           92\n",
              "El-Salvador                      79\n",
              "India                            77\n",
              "Cuba                             76\n",
              "England                          67\n",
              "Jamaica                          64\n",
              "South                            63\n",
              "China                            57\n",
              "Columbia                         52\n",
              "Guatemala                        52\n",
              "Italy                            50\n",
              "Vietnam                          50\n",
              "Dominican-Republic               48\n",
              "Poland                           47\n",
              "Japan                            47\n",
              "Taiwan                           39\n",
              "Iran                             35\n",
              "Haiti                            35\n",
              "Portugal                         30\n",
              "Nicaragua                        28\n",
              "Peru                             26\n",
              "Greece                           24\n",
              "Ecuador                          24\n",
              "France                           24\n",
              "Ireland                          18\n",
              "Laos                             15\n",
              "Hong                             14\n",
              "Trinadad&Tobago                  14\n",
              "Cambodia                         14\n",
              "Thailand                         13\n",
              "Outlying-US(Guam-USVI-etc)       13\n",
              "Yugoslavia                       12\n",
              "Hungary                          11\n",
              "Honduras                         11\n",
              "Scotland                          8\n",
              "Name: native_country, dtype: int64"
            ]
          },
          "metadata": {
            "tags": []
          },
          "execution_count": 11
        }
      ]
    },
    {
      "cell_type": "markdown",
      "metadata": {
        "id": "J-JIgtSa5MRf"
      },
      "source": [
        "데이터 까보면 특성이 틀림\n",
        "즉 전체는 DF 인데 개별 항목은 Series"
      ]
    },
    {
      "cell_type": "code",
      "metadata": {
        "colab": {
          "base_uri": "https://localhost:8080/"
        },
        "id": "QjAYfVXv43yj",
        "outputId": "628d9ea9-3213-4d5c-ee0e-c8150f82574b"
      },
      "source": [
        "type(train)"
      ],
      "execution_count": 12,
      "outputs": [
        {
          "output_type": "execute_result",
          "data": {
            "text/plain": [
              "pandas.core.frame.DataFrame"
            ]
          },
          "metadata": {
            "tags": []
          },
          "execution_count": 12
        }
      ]
    },
    {
      "cell_type": "code",
      "metadata": {
        "colab": {
          "base_uri": "https://localhost:8080/"
        },
        "id": "cukdb2j25Ffh",
        "outputId": "c583159e-0282-4985-ce96-8914ef9872f3"
      },
      "source": [
        "type(train.native_country)"
      ],
      "execution_count": 13,
      "outputs": [
        {
          "output_type": "execute_result",
          "data": {
            "text/plain": [
              "pandas.core.series.Series"
            ]
          },
          "metadata": {
            "tags": []
          },
          "execution_count": 13
        }
      ]
    },
    {
      "cell_type": "code",
      "metadata": {
        "colab": {
          "base_uri": "https://localhost:8080/"
        },
        "id": "e72bmuvp5IwC",
        "outputId": "0c47b9ec-de56-499a-8bcf-aef8f408205f"
      },
      "source": [
        "train['native_country']"
      ],
      "execution_count": 14,
      "outputs": [
        {
          "output_type": "execute_result",
          "data": {
            "text/plain": [
              "0        United-States\n",
              "1        United-States\n",
              "2        United-States\n",
              "3        United-States\n",
              "4                    ?\n",
              "             ...      \n",
              "26044    United-States\n",
              "26045    United-States\n",
              "26046    United-States\n",
              "26047    United-States\n",
              "26048    United-States\n",
              "Name: native_country, Length: 26049, dtype: object"
            ]
          },
          "metadata": {
            "tags": []
          },
          "execution_count": 14
        }
      ]
    },
    {
      "cell_type": "code",
      "metadata": {
        "id": "qVTcFtqz5Z8R"
      },
      "source": [
        ""
      ],
      "execution_count": 14,
      "outputs": []
    },
    {
      "cell_type": "markdown",
      "metadata": {
        "id": "SPCuxebR5zoi"
      },
      "source": [
        "\n",
        "\n"
      ]
    },
    {
      "cell_type": "markdown",
      "metadata": {
        "id": "rLbvpt346FZm"
      },
      "source": [
        "train['native_country'].  힌트 않나옴\n",
        "train.native_country.  힌트 나옴"
      ]
    },
    {
      "cell_type": "code",
      "metadata": {
        "colab": {
          "base_uri": "https://localhost:8080/"
        },
        "id": "paO2inFM6CQ6",
        "outputId": "25dd2dbd-01eb-442f-a744-10ea8c568c5b"
      },
      "source": [
        "train['native_country']"
      ],
      "execution_count": 15,
      "outputs": [
        {
          "output_type": "execute_result",
          "data": {
            "text/plain": [
              "0        United-States\n",
              "1        United-States\n",
              "2        United-States\n",
              "3        United-States\n",
              "4                    ?\n",
              "             ...      \n",
              "26044    United-States\n",
              "26045    United-States\n",
              "26046    United-States\n",
              "26047    United-States\n",
              "26048    United-States\n",
              "Name: native_country, Length: 26049, dtype: object"
            ]
          },
          "metadata": {
            "tags": []
          },
          "execution_count": 15
        }
      ]
    },
    {
      "cell_type": "code",
      "metadata": {
        "colab": {
          "base_uri": "https://localhost:8080/",
          "height": 134
        },
        "id": "Qnze6Lvy6Ppf",
        "outputId": "0a904b23-1fc3-4ed9-fc36-67774f9c0927"
      },
      "source": [
        "#반드시 함수뒤에 () 확인\n",
        " train.native_country(10)"
      ],
      "execution_count": 16,
      "outputs": [
        {
          "output_type": "error",
          "ename": "IndentationError",
          "evalue": "ignored",
          "traceback": [
            "\u001b[0;36m  File \u001b[0;32m\"<ipython-input-16-f74271c5c7d3>\"\u001b[0;36m, line \u001b[0;32m2\u001b[0m\n\u001b[0;31m    train.native_country(10)\u001b[0m\n\u001b[0m    ^\u001b[0m\n\u001b[0;31mIndentationError\u001b[0m\u001b[0;31m:\u001b[0m unexpected indent\n"
          ]
        }
      ]
    },
    {
      "cell_type": "code",
      "metadata": {
        "colab": {
          "base_uri": "https://localhost:8080/"
        },
        "id": "5ydRLMDi6Vv_",
        "outputId": "9fe9d35c-3232-471e-ebac-ff06db39cbd8"
      },
      "source": [
        "train.capital_gain.describe()"
      ],
      "execution_count": 17,
      "outputs": [
        {
          "output_type": "execute_result",
          "data": {
            "text/plain": [
              "count    26049.00000\n",
              "mean      1087.68970\n",
              "std       7388.85469\n",
              "min          0.00000\n",
              "25%          0.00000\n",
              "50%          0.00000\n",
              "75%          0.00000\n",
              "max      99999.00000\n",
              "Name: capital_gain, dtype: float64"
            ]
          },
          "metadata": {
            "tags": []
          },
          "execution_count": 17
        }
      ]
    },
    {
      "cell_type": "code",
      "metadata": {
        "colab": {
          "base_uri": "https://localhost:8080/"
        },
        "id": "9cM5CeTt66N4",
        "outputId": "fce02b34-cb93-4096-844e-8667f0a124e4"
      },
      "source": [
        "train.capital_gain.describe(percentiles=[.99])"
      ],
      "execution_count": 18,
      "outputs": [
        {
          "output_type": "execute_result",
          "data": {
            "text/plain": [
              "count    26049.00000\n",
              "mean      1087.68970\n",
              "std       7388.85469\n",
              "min          0.00000\n",
              "50%          0.00000\n",
              "99%      15024.00000\n",
              "max      99999.00000\n",
              "Name: capital_gain, dtype: float64"
            ]
          },
          "metadata": {
            "tags": []
          },
          "execution_count": 18
        }
      ]
    },
    {
      "cell_type": "code",
      "metadata": {
        "colab": {
          "base_uri": "https://localhost:8080/",
          "height": 551
        },
        "id": "x1yrTwCE7a_d",
        "outputId": "a7a007b3-97a2-4eba-c53c-05a1f6d4ec83"
      },
      "source": [
        "#직접 이상치 확인\n",
        "# train.capital_gain에 값이 99999인것을 찾아라\n",
        "# : 전체 표시하라\n",
        "train.loc[train.capital_gain == 99999, :]"
      ],
      "execution_count": 19,
      "outputs": [
        {
          "output_type": "execute_result",
          "data": {
            "text/html": [
              "<div>\n",
              "<style scoped>\n",
              "    .dataframe tbody tr th:only-of-type {\n",
              "        vertical-align: middle;\n",
              "    }\n",
              "\n",
              "    .dataframe tbody tr th {\n",
              "        vertical-align: top;\n",
              "    }\n",
              "\n",
              "    .dataframe thead th {\n",
              "        text-align: right;\n",
              "    }\n",
              "</style>\n",
              "<table border=\"1\" class=\"dataframe\">\n",
              "  <thead>\n",
              "    <tr style=\"text-align: right;\">\n",
              "      <th></th>\n",
              "      <th>id</th>\n",
              "      <th>age</th>\n",
              "      <th>workclass</th>\n",
              "      <th>fnlwgt</th>\n",
              "      <th>education</th>\n",
              "      <th>education_num</th>\n",
              "      <th>marital_status</th>\n",
              "      <th>occupation</th>\n",
              "      <th>relationship</th>\n",
              "      <th>race</th>\n",
              "      <th>sex</th>\n",
              "      <th>capital_gain</th>\n",
              "      <th>capital_loss</th>\n",
              "      <th>hours_per_week</th>\n",
              "      <th>native_country</th>\n",
              "      <th>income</th>\n",
              "    </tr>\n",
              "  </thead>\n",
              "  <tbody>\n",
              "    <tr>\n",
              "      <th>227</th>\n",
              "      <td>227</td>\n",
              "      <td>24</td>\n",
              "      <td>?</td>\n",
              "      <td>151153</td>\n",
              "      <td>Some-college</td>\n",
              "      <td>10</td>\n",
              "      <td>Never-married</td>\n",
              "      <td>?</td>\n",
              "      <td>Not-in-family</td>\n",
              "      <td>Asian-Pac-Islander</td>\n",
              "      <td>Male</td>\n",
              "      <td>99999</td>\n",
              "      <td>0</td>\n",
              "      <td>50</td>\n",
              "      <td>South</td>\n",
              "      <td>&gt;50K</td>\n",
              "    </tr>\n",
              "    <tr>\n",
              "      <th>430</th>\n",
              "      <td>430</td>\n",
              "      <td>55</td>\n",
              "      <td>Private</td>\n",
              "      <td>408537</td>\n",
              "      <td>9th</td>\n",
              "      <td>5</td>\n",
              "      <td>Divorced</td>\n",
              "      <td>Craft-repair</td>\n",
              "      <td>Unmarried</td>\n",
              "      <td>White</td>\n",
              "      <td>Female</td>\n",
              "      <td>99999</td>\n",
              "      <td>0</td>\n",
              "      <td>37</td>\n",
              "      <td>United-States</td>\n",
              "      <td>&gt;50K</td>\n",
              "    </tr>\n",
              "    <tr>\n",
              "      <th>848</th>\n",
              "      <td>848</td>\n",
              "      <td>32</td>\n",
              "      <td>Private</td>\n",
              "      <td>330715</td>\n",
              "      <td>HS-grad</td>\n",
              "      <td>9</td>\n",
              "      <td>Married-civ-spouse</td>\n",
              "      <td>Craft-repair</td>\n",
              "      <td>Husband</td>\n",
              "      <td>White</td>\n",
              "      <td>Male</td>\n",
              "      <td>99999</td>\n",
              "      <td>0</td>\n",
              "      <td>40</td>\n",
              "      <td>United-States</td>\n",
              "      <td>&gt;50K</td>\n",
              "    </tr>\n",
              "    <tr>\n",
              "      <th>852</th>\n",
              "      <td>852</td>\n",
              "      <td>66</td>\n",
              "      <td>Private</td>\n",
              "      <td>115498</td>\n",
              "      <td>Bachelors</td>\n",
              "      <td>13</td>\n",
              "      <td>Married-civ-spouse</td>\n",
              "      <td>Exec-managerial</td>\n",
              "      <td>Husband</td>\n",
              "      <td>White</td>\n",
              "      <td>Male</td>\n",
              "      <td>99999</td>\n",
              "      <td>0</td>\n",
              "      <td>55</td>\n",
              "      <td>?</td>\n",
              "      <td>&gt;50K</td>\n",
              "    </tr>\n",
              "    <tr>\n",
              "      <th>1209</th>\n",
              "      <td>1209</td>\n",
              "      <td>37</td>\n",
              "      <td>Local-gov</td>\n",
              "      <td>287306</td>\n",
              "      <td>Assoc-acdm</td>\n",
              "      <td>12</td>\n",
              "      <td>Married-civ-spouse</td>\n",
              "      <td>Prof-specialty</td>\n",
              "      <td>Wife</td>\n",
              "      <td>Black</td>\n",
              "      <td>Female</td>\n",
              "      <td>99999</td>\n",
              "      <td>0</td>\n",
              "      <td>40</td>\n",
              "      <td>?</td>\n",
              "      <td>&gt;50K</td>\n",
              "    </tr>\n",
              "    <tr>\n",
              "      <th>...</th>\n",
              "      <td>...</td>\n",
              "      <td>...</td>\n",
              "      <td>...</td>\n",
              "      <td>...</td>\n",
              "      <td>...</td>\n",
              "      <td>...</td>\n",
              "      <td>...</td>\n",
              "      <td>...</td>\n",
              "      <td>...</td>\n",
              "      <td>...</td>\n",
              "      <td>...</td>\n",
              "      <td>...</td>\n",
              "      <td>...</td>\n",
              "      <td>...</td>\n",
              "      <td>...</td>\n",
              "      <td>...</td>\n",
              "    </tr>\n",
              "    <tr>\n",
              "      <th>25535</th>\n",
              "      <td>25535</td>\n",
              "      <td>55</td>\n",
              "      <td>Private</td>\n",
              "      <td>197399</td>\n",
              "      <td>Masters</td>\n",
              "      <td>14</td>\n",
              "      <td>Married-civ-spouse</td>\n",
              "      <td>Exec-managerial</td>\n",
              "      <td>Husband</td>\n",
              "      <td>White</td>\n",
              "      <td>Male</td>\n",
              "      <td>99999</td>\n",
              "      <td>0</td>\n",
              "      <td>55</td>\n",
              "      <td>United-States</td>\n",
              "      <td>&gt;50K</td>\n",
              "    </tr>\n",
              "    <tr>\n",
              "      <th>25648</th>\n",
              "      <td>25648</td>\n",
              "      <td>64</td>\n",
              "      <td>Self-emp-inc</td>\n",
              "      <td>185912</td>\n",
              "      <td>Prof-school</td>\n",
              "      <td>15</td>\n",
              "      <td>Married-civ-spouse</td>\n",
              "      <td>Prof-specialty</td>\n",
              "      <td>Husband</td>\n",
              "      <td>White</td>\n",
              "      <td>Male</td>\n",
              "      <td>99999</td>\n",
              "      <td>0</td>\n",
              "      <td>35</td>\n",
              "      <td>United-States</td>\n",
              "      <td>&gt;50K</td>\n",
              "    </tr>\n",
              "    <tr>\n",
              "      <th>25705</th>\n",
              "      <td>25705</td>\n",
              "      <td>41</td>\n",
              "      <td>Private</td>\n",
              "      <td>115932</td>\n",
              "      <td>Some-college</td>\n",
              "      <td>10</td>\n",
              "      <td>Married-civ-spouse</td>\n",
              "      <td>Exec-managerial</td>\n",
              "      <td>Husband</td>\n",
              "      <td>White</td>\n",
              "      <td>Male</td>\n",
              "      <td>99999</td>\n",
              "      <td>0</td>\n",
              "      <td>50</td>\n",
              "      <td>United-States</td>\n",
              "      <td>&gt;50K</td>\n",
              "    </tr>\n",
              "    <tr>\n",
              "      <th>25824</th>\n",
              "      <td>25824</td>\n",
              "      <td>50</td>\n",
              "      <td>Self-emp-not-inc</td>\n",
              "      <td>132716</td>\n",
              "      <td>Prof-school</td>\n",
              "      <td>15</td>\n",
              "      <td>Married-civ-spouse</td>\n",
              "      <td>Exec-managerial</td>\n",
              "      <td>Husband</td>\n",
              "      <td>White</td>\n",
              "      <td>Male</td>\n",
              "      <td>99999</td>\n",
              "      <td>0</td>\n",
              "      <td>50</td>\n",
              "      <td>United-States</td>\n",
              "      <td>&gt;50K</td>\n",
              "    </tr>\n",
              "    <tr>\n",
              "      <th>25987</th>\n",
              "      <td>25987</td>\n",
              "      <td>63</td>\n",
              "      <td>Private</td>\n",
              "      <td>118798</td>\n",
              "      <td>HS-grad</td>\n",
              "      <td>9</td>\n",
              "      <td>Married-civ-spouse</td>\n",
              "      <td>Craft-repair</td>\n",
              "      <td>Husband</td>\n",
              "      <td>White</td>\n",
              "      <td>Male</td>\n",
              "      <td>99999</td>\n",
              "      <td>0</td>\n",
              "      <td>40</td>\n",
              "      <td>United-States</td>\n",
              "      <td>&gt;50K</td>\n",
              "    </tr>\n",
              "  </tbody>\n",
              "</table>\n",
              "<p>127 rows × 16 columns</p>\n",
              "</div>"
            ],
            "text/plain": [
              "          id  age         workclass  ...  hours_per_week native_country  income\n",
              "227      227   24                 ?  ...              50          South    >50K\n",
              "430      430   55           Private  ...              37  United-States    >50K\n",
              "848      848   32           Private  ...              40  United-States    >50K\n",
              "852      852   66           Private  ...              55              ?    >50K\n",
              "1209    1209   37         Local-gov  ...              40              ?    >50K\n",
              "...      ...  ...               ...  ...             ...            ...     ...\n",
              "25535  25535   55           Private  ...              55  United-States    >50K\n",
              "25648  25648   64      Self-emp-inc  ...              35  United-States    >50K\n",
              "25705  25705   41           Private  ...              50  United-States    >50K\n",
              "25824  25824   50  Self-emp-not-inc  ...              50  United-States    >50K\n",
              "25987  25987   63           Private  ...              40  United-States    >50K\n",
              "\n",
              "[127 rows x 16 columns]"
            ]
          },
          "metadata": {
            "tags": []
          },
          "execution_count": 19
        }
      ]
    },
    {
      "cell_type": "code",
      "metadata": {
        "colab": {
          "base_uri": "https://localhost:8080/"
        },
        "id": "n5J7A99F9JUf",
        "outputId": "6dc5e188-31c8-448d-cf44-2b1f94d3b967"
      },
      "source": [
        "train.capital_gain < 99999"
      ],
      "execution_count": 20,
      "outputs": [
        {
          "output_type": "execute_result",
          "data": {
            "text/plain": [
              "0        True\n",
              "1        True\n",
              "2        True\n",
              "3        True\n",
              "4        True\n",
              "         ... \n",
              "26044    True\n",
              "26045    True\n",
              "26046    True\n",
              "26047    True\n",
              "26048    True\n",
              "Name: capital_gain, Length: 26049, dtype: bool"
            ]
          },
          "metadata": {
            "tags": []
          },
          "execution_count": 20
        }
      ]
    },
    {
      "cell_type": "code",
      "metadata": {
        "id": "86qrPdtV8Fs-"
      },
      "source": [
        "#iloc 는 loc와 틀리게 숫자로 해야 한다\n",
        "# 인덱스 번호가 이름이 아니라 숫자번호로 써라\n"
      ],
      "execution_count": 21,
      "outputs": []
    },
    {
      "cell_type": "code",
      "metadata": {
        "colab": {
          "base_uri": "https://localhost:8080/",
          "height": 517
        },
        "id": "WW6xS9ah85KF",
        "outputId": "1e3f2568-37a1-4330-e553-588299619d6d"
      },
      "source": [
        "train.loc[train.race =='White', :]"
      ],
      "execution_count": 22,
      "outputs": [
        {
          "output_type": "execute_result",
          "data": {
            "text/html": [
              "<div>\n",
              "<style scoped>\n",
              "    .dataframe tbody tr th:only-of-type {\n",
              "        vertical-align: middle;\n",
              "    }\n",
              "\n",
              "    .dataframe tbody tr th {\n",
              "        vertical-align: top;\n",
              "    }\n",
              "\n",
              "    .dataframe thead th {\n",
              "        text-align: right;\n",
              "    }\n",
              "</style>\n",
              "<table border=\"1\" class=\"dataframe\">\n",
              "  <thead>\n",
              "    <tr style=\"text-align: right;\">\n",
              "      <th></th>\n",
              "      <th>id</th>\n",
              "      <th>age</th>\n",
              "      <th>workclass</th>\n",
              "      <th>fnlwgt</th>\n",
              "      <th>education</th>\n",
              "      <th>education_num</th>\n",
              "      <th>marital_status</th>\n",
              "      <th>occupation</th>\n",
              "      <th>relationship</th>\n",
              "      <th>race</th>\n",
              "      <th>sex</th>\n",
              "      <th>capital_gain</th>\n",
              "      <th>capital_loss</th>\n",
              "      <th>hours_per_week</th>\n",
              "      <th>native_country</th>\n",
              "      <th>income</th>\n",
              "    </tr>\n",
              "  </thead>\n",
              "  <tbody>\n",
              "    <tr>\n",
              "      <th>0</th>\n",
              "      <td>0</td>\n",
              "      <td>40</td>\n",
              "      <td>Private</td>\n",
              "      <td>168538</td>\n",
              "      <td>HS-grad</td>\n",
              "      <td>9</td>\n",
              "      <td>Married-civ-spouse</td>\n",
              "      <td>Sales</td>\n",
              "      <td>Husband</td>\n",
              "      <td>White</td>\n",
              "      <td>Male</td>\n",
              "      <td>0</td>\n",
              "      <td>0</td>\n",
              "      <td>60</td>\n",
              "      <td>United-States</td>\n",
              "      <td>&gt;50K</td>\n",
              "    </tr>\n",
              "    <tr>\n",
              "      <th>1</th>\n",
              "      <td>1</td>\n",
              "      <td>17</td>\n",
              "      <td>Private</td>\n",
              "      <td>101626</td>\n",
              "      <td>9th</td>\n",
              "      <td>5</td>\n",
              "      <td>Never-married</td>\n",
              "      <td>Machine-op-inspct</td>\n",
              "      <td>Own-child</td>\n",
              "      <td>White</td>\n",
              "      <td>Male</td>\n",
              "      <td>0</td>\n",
              "      <td>0</td>\n",
              "      <td>20</td>\n",
              "      <td>United-States</td>\n",
              "      <td>&lt;=50K</td>\n",
              "    </tr>\n",
              "    <tr>\n",
              "      <th>2</th>\n",
              "      <td>2</td>\n",
              "      <td>18</td>\n",
              "      <td>Private</td>\n",
              "      <td>353358</td>\n",
              "      <td>Some-college</td>\n",
              "      <td>10</td>\n",
              "      <td>Never-married</td>\n",
              "      <td>Other-service</td>\n",
              "      <td>Own-child</td>\n",
              "      <td>White</td>\n",
              "      <td>Male</td>\n",
              "      <td>0</td>\n",
              "      <td>0</td>\n",
              "      <td>16</td>\n",
              "      <td>United-States</td>\n",
              "      <td>&lt;=50K</td>\n",
              "    </tr>\n",
              "    <tr>\n",
              "      <th>3</th>\n",
              "      <td>3</td>\n",
              "      <td>21</td>\n",
              "      <td>Private</td>\n",
              "      <td>151158</td>\n",
              "      <td>Some-college</td>\n",
              "      <td>10</td>\n",
              "      <td>Never-married</td>\n",
              "      <td>Prof-specialty</td>\n",
              "      <td>Own-child</td>\n",
              "      <td>White</td>\n",
              "      <td>Female</td>\n",
              "      <td>0</td>\n",
              "      <td>0</td>\n",
              "      <td>25</td>\n",
              "      <td>United-States</td>\n",
              "      <td>&lt;=50K</td>\n",
              "    </tr>\n",
              "    <tr>\n",
              "      <th>6</th>\n",
              "      <td>6</td>\n",
              "      <td>43</td>\n",
              "      <td>State-gov</td>\n",
              "      <td>206139</td>\n",
              "      <td>Bachelors</td>\n",
              "      <td>13</td>\n",
              "      <td>Married-civ-spouse</td>\n",
              "      <td>Adm-clerical</td>\n",
              "      <td>Husband</td>\n",
              "      <td>White</td>\n",
              "      <td>Male</td>\n",
              "      <td>0</td>\n",
              "      <td>0</td>\n",
              "      <td>50</td>\n",
              "      <td>United-States</td>\n",
              "      <td>&gt;50K</td>\n",
              "    </tr>\n",
              "    <tr>\n",
              "      <th>...</th>\n",
              "      <td>...</td>\n",
              "      <td>...</td>\n",
              "      <td>...</td>\n",
              "      <td>...</td>\n",
              "      <td>...</td>\n",
              "      <td>...</td>\n",
              "      <td>...</td>\n",
              "      <td>...</td>\n",
              "      <td>...</td>\n",
              "      <td>...</td>\n",
              "      <td>...</td>\n",
              "      <td>...</td>\n",
              "      <td>...</td>\n",
              "      <td>...</td>\n",
              "      <td>...</td>\n",
              "      <td>...</td>\n",
              "    </tr>\n",
              "    <tr>\n",
              "      <th>26042</th>\n",
              "      <td>26042</td>\n",
              "      <td>48</td>\n",
              "      <td>Self-emp-not-inc</td>\n",
              "      <td>191389</td>\n",
              "      <td>Some-college</td>\n",
              "      <td>10</td>\n",
              "      <td>Separated</td>\n",
              "      <td>Sales</td>\n",
              "      <td>Unmarried</td>\n",
              "      <td>White</td>\n",
              "      <td>Female</td>\n",
              "      <td>0</td>\n",
              "      <td>0</td>\n",
              "      <td>50</td>\n",
              "      <td>United-States</td>\n",
              "      <td>&lt;=50K</td>\n",
              "    </tr>\n",
              "    <tr>\n",
              "      <th>26044</th>\n",
              "      <td>26044</td>\n",
              "      <td>57</td>\n",
              "      <td>Private</td>\n",
              "      <td>250201</td>\n",
              "      <td>11th</td>\n",
              "      <td>7</td>\n",
              "      <td>Married-civ-spouse</td>\n",
              "      <td>Other-service</td>\n",
              "      <td>Husband</td>\n",
              "      <td>White</td>\n",
              "      <td>Male</td>\n",
              "      <td>0</td>\n",
              "      <td>0</td>\n",
              "      <td>52</td>\n",
              "      <td>United-States</td>\n",
              "      <td>&lt;=50K</td>\n",
              "    </tr>\n",
              "    <tr>\n",
              "      <th>26045</th>\n",
              "      <td>26045</td>\n",
              "      <td>23</td>\n",
              "      <td>Private</td>\n",
              "      <td>238092</td>\n",
              "      <td>Bachelors</td>\n",
              "      <td>13</td>\n",
              "      <td>Never-married</td>\n",
              "      <td>Prof-specialty</td>\n",
              "      <td>Own-child</td>\n",
              "      <td>White</td>\n",
              "      <td>Male</td>\n",
              "      <td>0</td>\n",
              "      <td>0</td>\n",
              "      <td>40</td>\n",
              "      <td>United-States</td>\n",
              "      <td>&lt;=50K</td>\n",
              "    </tr>\n",
              "    <tr>\n",
              "      <th>26046</th>\n",
              "      <td>26046</td>\n",
              "      <td>78</td>\n",
              "      <td>?</td>\n",
              "      <td>165694</td>\n",
              "      <td>Masters</td>\n",
              "      <td>14</td>\n",
              "      <td>Widowed</td>\n",
              "      <td>?</td>\n",
              "      <td>Not-in-family</td>\n",
              "      <td>White</td>\n",
              "      <td>Female</td>\n",
              "      <td>0</td>\n",
              "      <td>0</td>\n",
              "      <td>15</td>\n",
              "      <td>United-States</td>\n",
              "      <td>&lt;=50K</td>\n",
              "    </tr>\n",
              "    <tr>\n",
              "      <th>26048</th>\n",
              "      <td>26048</td>\n",
              "      <td>20</td>\n",
              "      <td>?</td>\n",
              "      <td>99891</td>\n",
              "      <td>Some-college</td>\n",
              "      <td>10</td>\n",
              "      <td>Never-married</td>\n",
              "      <td>?</td>\n",
              "      <td>Own-child</td>\n",
              "      <td>White</td>\n",
              "      <td>Female</td>\n",
              "      <td>0</td>\n",
              "      <td>0</td>\n",
              "      <td>30</td>\n",
              "      <td>United-States</td>\n",
              "      <td>&lt;=50K</td>\n",
              "    </tr>\n",
              "  </tbody>\n",
              "</table>\n",
              "<p>22315 rows × 16 columns</p>\n",
              "</div>"
            ],
            "text/plain": [
              "          id  age         workclass  ...  hours_per_week native_country  income\n",
              "0          0   40           Private  ...              60  United-States    >50K\n",
              "1          1   17           Private  ...              20  United-States   <=50K\n",
              "2          2   18           Private  ...              16  United-States   <=50K\n",
              "3          3   21           Private  ...              25  United-States   <=50K\n",
              "6          6   43         State-gov  ...              50  United-States    >50K\n",
              "...      ...  ...               ...  ...             ...            ...     ...\n",
              "26042  26042   48  Self-emp-not-inc  ...              50  United-States   <=50K\n",
              "26044  26044   57           Private  ...              52  United-States   <=50K\n",
              "26045  26045   23           Private  ...              40  United-States   <=50K\n",
              "26046  26046   78                 ?  ...              15  United-States   <=50K\n",
              "26048  26048   20                 ?  ...              30  United-States   <=50K\n",
              "\n",
              "[22315 rows x 16 columns]"
            ]
          },
          "metadata": {
            "tags": []
          },
          "execution_count": 22
        }
      ]
    },
    {
      "cell_type": "code",
      "metadata": {
        "colab": {
          "base_uri": "https://localhost:8080/"
        },
        "id": "oucxZ7Fq9ClM",
        "outputId": "ce1e44c3-721c-4eca-8d48-e96ebc536e39"
      },
      "source": [
        "train.income"
      ],
      "execution_count": 23,
      "outputs": [
        {
          "output_type": "execute_result",
          "data": {
            "text/plain": [
              "0         >50K\n",
              "1        <=50K\n",
              "2        <=50K\n",
              "3        <=50K\n",
              "4        <=50K\n",
              "         ...  \n",
              "26044    <=50K\n",
              "26045    <=50K\n",
              "26046    <=50K\n",
              "26047    <=50K\n",
              "26048    <=50K\n",
              "Name: income, Length: 26049, dtype: object"
            ]
          },
          "metadata": {
            "tags": []
          },
          "execution_count": 23
        }
      ]
    },
    {
      "cell_type": "code",
      "metadata": {
        "colab": {
          "base_uri": "https://localhost:8080/"
        },
        "id": "rEoXcBl89Vo5",
        "outputId": "8eaed0f3-d471-4c7f-e41f-ca2c497a9d12"
      },
      "source": [
        "train.income.map"
      ],
      "execution_count": 24,
      "outputs": [
        {
          "output_type": "execute_result",
          "data": {
            "text/plain": [
              "<bound method Series.map of 0         >50K\n",
              "1        <=50K\n",
              "2        <=50K\n",
              "3        <=50K\n",
              "4        <=50K\n",
              "         ...  \n",
              "26044    <=50K\n",
              "26045    <=50K\n",
              "26046    <=50K\n",
              "26047    <=50K\n",
              "26048    <=50K\n",
              "Name: income, Length: 26049, dtype: object>"
            ]
          },
          "metadata": {
            "tags": []
          },
          "execution_count": 24
        }
      ]
    },
    {
      "cell_type": "code",
      "metadata": {
        "id": "yB6THOQ59nyY"
      },
      "source": [
        ""
      ],
      "execution_count": 24,
      "outputs": []
    },
    {
      "cell_type": "code",
      "metadata": {
        "colab": {
          "base_uri": "https://localhost:8080/"
        },
        "id": "I4qmuXoe9aX5",
        "outputId": "4ad0b2fc-502d-4eb2-8017-084f42959a97"
      },
      "source": [
        "train.income.map(lambda x: x =='>50K')"
      ],
      "execution_count": 25,
      "outputs": [
        {
          "output_type": "execute_result",
          "data": {
            "text/plain": [
              "0         True\n",
              "1        False\n",
              "2        False\n",
              "3        False\n",
              "4        False\n",
              "         ...  \n",
              "26044    False\n",
              "26045    False\n",
              "26046    False\n",
              "26047    False\n",
              "26048    False\n",
              "Name: income, Length: 26049, dtype: bool"
            ]
          },
          "metadata": {
            "tags": []
          },
          "execution_count": 25
        }
      ]
    },
    {
      "cell_type": "code",
      "metadata": {
        "colab": {
          "base_uri": "https://localhost:8080/"
        },
        "id": "q1qFSAj29vKh",
        "outputId": "1086f549-c8a2-43fc-9d72-761fac10b51b"
      },
      "source": [
        "train.income.map(lambda x: int(x =='>50K'))"
      ],
      "execution_count": 26,
      "outputs": [
        {
          "output_type": "execute_result",
          "data": {
            "text/plain": [
              "0        1\n",
              "1        0\n",
              "2        0\n",
              "3        0\n",
              "4        0\n",
              "        ..\n",
              "26044    0\n",
              "26045    0\n",
              "26046    0\n",
              "26047    0\n",
              "26048    0\n",
              "Name: income, Length: 26049, dtype: int64"
            ]
          },
          "metadata": {
            "tags": []
          },
          "execution_count": 26
        }
      ]
    },
    {
      "cell_type": "code",
      "metadata": {
        "colab": {
          "base_uri": "https://localhost:8080/"
        },
        "id": "30Nkerou90Nh",
        "outputId": "bf7167f2-07b3-4448-84af-14cacc9e1106"
      },
      "source": [
        "train.apply"
      ],
      "execution_count": 27,
      "outputs": [
        {
          "output_type": "execute_result",
          "data": {
            "text/plain": [
              "<bound method DataFrame.apply of           id  age         workclass  ...  hours_per_week native_country  income\n",
              "0          0   40           Private  ...              60  United-States    >50K\n",
              "1          1   17           Private  ...              20  United-States   <=50K\n",
              "2          2   18           Private  ...              16  United-States   <=50K\n",
              "3          3   21           Private  ...              25  United-States   <=50K\n",
              "4          4   24           Private  ...              20              ?   <=50K\n",
              "...      ...  ...               ...  ...             ...            ...     ...\n",
              "26044  26044   57           Private  ...              52  United-States   <=50K\n",
              "26045  26045   23           Private  ...              40  United-States   <=50K\n",
              "26046  26046   78                 ?  ...              15  United-States   <=50K\n",
              "26047  26047   26  Self-emp-not-inc  ...              40  United-States   <=50K\n",
              "26048  26048   20                 ?  ...              30  United-States   <=50K\n",
              "\n",
              "[26049 rows x 16 columns]>"
            ]
          },
          "metadata": {
            "tags": []
          },
          "execution_count": 27
        }
      ]
    },
    {
      "cell_type": "code",
      "metadata": {
        "colab": {
          "base_uri": "https://localhost:8080/"
        },
        "id": "0hY_e05m-sXH",
        "outputId": "3f51dade-7636-48b6-8bed-ad603e04f16e"
      },
      "source": [
        "train.shape"
      ],
      "execution_count": 28,
      "outputs": [
        {
          "output_type": "execute_result",
          "data": {
            "text/plain": [
              "(26049, 16)"
            ]
          },
          "metadata": {
            "tags": []
          },
          "execution_count": 28
        }
      ]
    },
    {
      "cell_type": "code",
      "metadata": {
        "colab": {
          "base_uri": "https://localhost:8080/",
          "height": 501
        },
        "id": "almVEmN4-ZLg",
        "outputId": "8e8ef45e-647e-48c4-f3ee-700c87cbc8fb"
      },
      "source": [
        "train[train.apply(lambda x: \"?\" in list(x), axis=1)]"
      ],
      "execution_count": 29,
      "outputs": [
        {
          "output_type": "execute_result",
          "data": {
            "text/html": [
              "<div>\n",
              "<style scoped>\n",
              "    .dataframe tbody tr th:only-of-type {\n",
              "        vertical-align: middle;\n",
              "    }\n",
              "\n",
              "    .dataframe tbody tr th {\n",
              "        vertical-align: top;\n",
              "    }\n",
              "\n",
              "    .dataframe thead th {\n",
              "        text-align: right;\n",
              "    }\n",
              "</style>\n",
              "<table border=\"1\" class=\"dataframe\">\n",
              "  <thead>\n",
              "    <tr style=\"text-align: right;\">\n",
              "      <th></th>\n",
              "      <th>id</th>\n",
              "      <th>age</th>\n",
              "      <th>workclass</th>\n",
              "      <th>fnlwgt</th>\n",
              "      <th>education</th>\n",
              "      <th>education_num</th>\n",
              "      <th>marital_status</th>\n",
              "      <th>occupation</th>\n",
              "      <th>relationship</th>\n",
              "      <th>race</th>\n",
              "      <th>sex</th>\n",
              "      <th>capital_gain</th>\n",
              "      <th>capital_loss</th>\n",
              "      <th>hours_per_week</th>\n",
              "      <th>native_country</th>\n",
              "      <th>income</th>\n",
              "    </tr>\n",
              "  </thead>\n",
              "  <tbody>\n",
              "    <tr>\n",
              "      <th>4</th>\n",
              "      <td>4</td>\n",
              "      <td>24</td>\n",
              "      <td>Private</td>\n",
              "      <td>122234</td>\n",
              "      <td>Some-college</td>\n",
              "      <td>10</td>\n",
              "      <td>Never-married</td>\n",
              "      <td>Adm-clerical</td>\n",
              "      <td>Not-in-family</td>\n",
              "      <td>Black</td>\n",
              "      <td>Female</td>\n",
              "      <td>0</td>\n",
              "      <td>0</td>\n",
              "      <td>20</td>\n",
              "      <td>?</td>\n",
              "      <td>&lt;=50K</td>\n",
              "    </tr>\n",
              "    <tr>\n",
              "      <th>11</th>\n",
              "      <td>11</td>\n",
              "      <td>21</td>\n",
              "      <td>?</td>\n",
              "      <td>204226</td>\n",
              "      <td>Some-college</td>\n",
              "      <td>10</td>\n",
              "      <td>Never-married</td>\n",
              "      <td>?</td>\n",
              "      <td>Unmarried</td>\n",
              "      <td>White</td>\n",
              "      <td>Female</td>\n",
              "      <td>0</td>\n",
              "      <td>0</td>\n",
              "      <td>35</td>\n",
              "      <td>United-States</td>\n",
              "      <td>&lt;=50K</td>\n",
              "    </tr>\n",
              "    <tr>\n",
              "      <th>30</th>\n",
              "      <td>30</td>\n",
              "      <td>20</td>\n",
              "      <td>?</td>\n",
              "      <td>202994</td>\n",
              "      <td>Some-college</td>\n",
              "      <td>10</td>\n",
              "      <td>Never-married</td>\n",
              "      <td>?</td>\n",
              "      <td>Own-child</td>\n",
              "      <td>White</td>\n",
              "      <td>Female</td>\n",
              "      <td>0</td>\n",
              "      <td>0</td>\n",
              "      <td>16</td>\n",
              "      <td>United-States</td>\n",
              "      <td>&lt;=50K</td>\n",
              "    </tr>\n",
              "    <tr>\n",
              "      <th>34</th>\n",
              "      <td>34</td>\n",
              "      <td>31</td>\n",
              "      <td>?</td>\n",
              "      <td>505438</td>\n",
              "      <td>HS-grad</td>\n",
              "      <td>9</td>\n",
              "      <td>Married-civ-spouse</td>\n",
              "      <td>?</td>\n",
              "      <td>Husband</td>\n",
              "      <td>White</td>\n",
              "      <td>Male</td>\n",
              "      <td>0</td>\n",
              "      <td>0</td>\n",
              "      <td>30</td>\n",
              "      <td>Mexico</td>\n",
              "      <td>&lt;=50K</td>\n",
              "    </tr>\n",
              "    <tr>\n",
              "      <th>66</th>\n",
              "      <td>66</td>\n",
              "      <td>67</td>\n",
              "      <td>?</td>\n",
              "      <td>39100</td>\n",
              "      <td>HS-grad</td>\n",
              "      <td>9</td>\n",
              "      <td>Married-civ-spouse</td>\n",
              "      <td>?</td>\n",
              "      <td>Wife</td>\n",
              "      <td>White</td>\n",
              "      <td>Female</td>\n",
              "      <td>0</td>\n",
              "      <td>0</td>\n",
              "      <td>5</td>\n",
              "      <td>United-States</td>\n",
              "      <td>&lt;=50K</td>\n",
              "    </tr>\n",
              "    <tr>\n",
              "      <th>...</th>\n",
              "      <td>...</td>\n",
              "      <td>...</td>\n",
              "      <td>...</td>\n",
              "      <td>...</td>\n",
              "      <td>...</td>\n",
              "      <td>...</td>\n",
              "      <td>...</td>\n",
              "      <td>...</td>\n",
              "      <td>...</td>\n",
              "      <td>...</td>\n",
              "      <td>...</td>\n",
              "      <td>...</td>\n",
              "      <td>...</td>\n",
              "      <td>...</td>\n",
              "      <td>...</td>\n",
              "      <td>...</td>\n",
              "    </tr>\n",
              "    <tr>\n",
              "      <th>26009</th>\n",
              "      <td>26009</td>\n",
              "      <td>73</td>\n",
              "      <td>?</td>\n",
              "      <td>89852</td>\n",
              "      <td>1st-4th</td>\n",
              "      <td>2</td>\n",
              "      <td>Married-civ-spouse</td>\n",
              "      <td>?</td>\n",
              "      <td>Husband</td>\n",
              "      <td>White</td>\n",
              "      <td>Male</td>\n",
              "      <td>0</td>\n",
              "      <td>0</td>\n",
              "      <td>40</td>\n",
              "      <td>Portugal</td>\n",
              "      <td>&lt;=50K</td>\n",
              "    </tr>\n",
              "    <tr>\n",
              "      <th>26010</th>\n",
              "      <td>26010</td>\n",
              "      <td>63</td>\n",
              "      <td>?</td>\n",
              "      <td>321403</td>\n",
              "      <td>9th</td>\n",
              "      <td>5</td>\n",
              "      <td>Separated</td>\n",
              "      <td>?</td>\n",
              "      <td>Not-in-family</td>\n",
              "      <td>Black</td>\n",
              "      <td>Male</td>\n",
              "      <td>0</td>\n",
              "      <td>0</td>\n",
              "      <td>40</td>\n",
              "      <td>United-States</td>\n",
              "      <td>&lt;=50K</td>\n",
              "    </tr>\n",
              "    <tr>\n",
              "      <th>26012</th>\n",
              "      <td>26012</td>\n",
              "      <td>36</td>\n",
              "      <td>?</td>\n",
              "      <td>214896</td>\n",
              "      <td>9th</td>\n",
              "      <td>5</td>\n",
              "      <td>Divorced</td>\n",
              "      <td>?</td>\n",
              "      <td>Unmarried</td>\n",
              "      <td>White</td>\n",
              "      <td>Female</td>\n",
              "      <td>0</td>\n",
              "      <td>0</td>\n",
              "      <td>40</td>\n",
              "      <td>Mexico</td>\n",
              "      <td>&lt;=50K</td>\n",
              "    </tr>\n",
              "    <tr>\n",
              "      <th>26046</th>\n",
              "      <td>26046</td>\n",
              "      <td>78</td>\n",
              "      <td>?</td>\n",
              "      <td>165694</td>\n",
              "      <td>Masters</td>\n",
              "      <td>14</td>\n",
              "      <td>Widowed</td>\n",
              "      <td>?</td>\n",
              "      <td>Not-in-family</td>\n",
              "      <td>White</td>\n",
              "      <td>Female</td>\n",
              "      <td>0</td>\n",
              "      <td>0</td>\n",
              "      <td>15</td>\n",
              "      <td>United-States</td>\n",
              "      <td>&lt;=50K</td>\n",
              "    </tr>\n",
              "    <tr>\n",
              "      <th>26048</th>\n",
              "      <td>26048</td>\n",
              "      <td>20</td>\n",
              "      <td>?</td>\n",
              "      <td>99891</td>\n",
              "      <td>Some-college</td>\n",
              "      <td>10</td>\n",
              "      <td>Never-married</td>\n",
              "      <td>?</td>\n",
              "      <td>Own-child</td>\n",
              "      <td>White</td>\n",
              "      <td>Female</td>\n",
              "      <td>0</td>\n",
              "      <td>0</td>\n",
              "      <td>30</td>\n",
              "      <td>United-States</td>\n",
              "      <td>&lt;=50K</td>\n",
              "    </tr>\n",
              "  </tbody>\n",
              "</table>\n",
              "<p>1943 rows × 16 columns</p>\n",
              "</div>"
            ],
            "text/plain": [
              "          id  age workclass  ...  hours_per_week native_country  income\n",
              "4          4   24   Private  ...              20              ?   <=50K\n",
              "11        11   21         ?  ...              35  United-States   <=50K\n",
              "30        30   20         ?  ...              16  United-States   <=50K\n",
              "34        34   31         ?  ...              30         Mexico   <=50K\n",
              "66        66   67         ?  ...               5  United-States   <=50K\n",
              "...      ...  ...       ...  ...             ...            ...     ...\n",
              "26009  26009   73         ?  ...              40       Portugal   <=50K\n",
              "26010  26010   63         ?  ...              40  United-States   <=50K\n",
              "26012  26012   36         ?  ...              40         Mexico   <=50K\n",
              "26046  26046   78         ?  ...              15  United-States   <=50K\n",
              "26048  26048   20         ?  ...              30  United-States   <=50K\n",
              "\n",
              "[1943 rows x 16 columns]"
            ]
          },
          "metadata": {
            "tags": []
          },
          "execution_count": 29
        }
      ]
    },
    {
      "cell_type": "code",
      "metadata": {
        "colab": {
          "base_uri": "https://localhost:8080/",
          "height": 282
        },
        "id": "FEJIvBvS-wCL",
        "outputId": "1067fc17-e535-462d-d151-66ce5ace590d"
      },
      "source": [
        "#걍 판다스의 plot을 써라\n",
        "#간단하게 그리기\n",
        "train.age.plot(kind=\"kde\")"
      ],
      "execution_count": 30,
      "outputs": [
        {
          "output_type": "execute_result",
          "data": {
            "text/plain": [
              "<matplotlib.axes._subplots.AxesSubplot at 0x7fbd316a9dd0>"
            ]
          },
          "metadata": {
            "tags": []
          },
          "execution_count": 30
        },
        {
          "output_type": "display_data",
          "data": {
            "image/png": "[encoded data removed]",
            "text/plain": [
              "<Figure size 432x288 with 1 Axes>"
            ]
          },
          "metadata": {
            "tags": [],
            "needs_background": "light"
          }
        }
      ]
    },
    {
      "cell_type": "code",
      "metadata": {
        "id": "iy16T5FA-5Ke"
      },
      "source": [
        ""
      ],
      "execution_count": 30,
      "outputs": []
    },
    {
      "cell_type": "markdown",
      "metadata": {
        "id": "EOIaiZYkJZWq"
      },
      "source": [
        "2.결측치 처리"
      ]
    },
    {
      "cell_type": "code",
      "metadata": {
        "colab": {
          "base_uri": "https://localhost:8080/"
        },
        "id": "_hcvuNSbKNkl",
        "outputId": "06ded9d1-32c6-4f70-8d3e-ce8a019a252f"
      },
      "source": [
        "#  행에   ? 가 하나만 있면 True\n",
        "# 축\n",
        "# apply , lamda 숙지 하기\n",
        "#https://koreadatascientist.tistory.com/115\n",
        "train.apply(lambda x: \"?\" in list(x), axis=1)"
      ],
      "execution_count": 31,
      "outputs": [
        {
          "output_type": "execute_result",
          "data": {
            "text/plain": [
              "0        False\n",
              "1        False\n",
              "2        False\n",
              "3        False\n",
              "4         True\n",
              "         ...  \n",
              "26044    False\n",
              "26045    False\n",
              "26046     True\n",
              "26047    False\n",
              "26048     True\n",
              "Length: 26049, dtype: bool"
            ]
          },
          "metadata": {
            "tags": []
          },
          "execution_count": 31
        }
      ]
    },
    {
      "cell_type": "code",
      "metadata": {
        "colab": {
          "base_uri": "https://localhost:8080/",
          "height": 501
        },
        "id": "L2a2gfjlJcXH",
        "outputId": "9869f2b9-56c7-4b38-aef3-7e611f878c54"
      },
      "source": [
        "# ? 찾기\n",
        "#train.loc[train.apply(lambda x: \"?\" in list(x), axis=1),:]\n",
        "\n",
        "train[train.apply(lambda x: \"?\" in list(x), axis=1)]\n"
      ],
      "execution_count": 32,
      "outputs": [
        {
          "output_type": "execute_result",
          "data": {
            "text/html": [
              "<div>\n",
              "<style scoped>\n",
              "    .dataframe tbody tr th:only-of-type {\n",
              "        vertical-align: middle;\n",
              "    }\n",
              "\n",
              "    .dataframe tbody tr th {\n",
              "        vertical-align: top;\n",
              "    }\n",
              "\n",
              "    .dataframe thead th {\n",
              "        text-align: right;\n",
              "    }\n",
              "</style>\n",
              "<table border=\"1\" class=\"dataframe\">\n",
              "  <thead>\n",
              "    <tr style=\"text-align: right;\">\n",
              "      <th></th>\n",
              "      <th>id</th>\n",
              "      <th>age</th>\n",
              "      <th>workclass</th>\n",
              "      <th>fnlwgt</th>\n",
              "      <th>education</th>\n",
              "      <th>education_num</th>\n",
              "      <th>marital_status</th>\n",
              "      <th>occupation</th>\n",
              "      <th>relationship</th>\n",
              "      <th>race</th>\n",
              "      <th>sex</th>\n",
              "      <th>capital_gain</th>\n",
              "      <th>capital_loss</th>\n",
              "      <th>hours_per_week</th>\n",
              "      <th>native_country</th>\n",
              "      <th>income</th>\n",
              "    </tr>\n",
              "  </thead>\n",
              "  <tbody>\n",
              "    <tr>\n",
              "      <th>4</th>\n",
              "      <td>4</td>\n",
              "      <td>24</td>\n",
              "      <td>Private</td>\n",
              "      <td>122234</td>\n",
              "      <td>Some-college</td>\n",
              "      <td>10</td>\n",
              "      <td>Never-married</td>\n",
              "      <td>Adm-clerical</td>\n",
              "      <td>Not-in-family</td>\n",
              "      <td>Black</td>\n",
              "      <td>Female</td>\n",
              "      <td>0</td>\n",
              "      <td>0</td>\n",
              "      <td>20</td>\n",
              "      <td>?</td>\n",
              "      <td>&lt;=50K</td>\n",
              "    </tr>\n",
              "    <tr>\n",
              "      <th>11</th>\n",
              "      <td>11</td>\n",
              "      <td>21</td>\n",
              "      <td>?</td>\n",
              "      <td>204226</td>\n",
              "      <td>Some-college</td>\n",
              "      <td>10</td>\n",
              "      <td>Never-married</td>\n",
              "      <td>?</td>\n",
              "      <td>Unmarried</td>\n",
              "      <td>White</td>\n",
              "      <td>Female</td>\n",
              "      <td>0</td>\n",
              "      <td>0</td>\n",
              "      <td>35</td>\n",
              "      <td>United-States</td>\n",
              "      <td>&lt;=50K</td>\n",
              "    </tr>\n",
              "    <tr>\n",
              "      <th>30</th>\n",
              "      <td>30</td>\n",
              "      <td>20</td>\n",
              "      <td>?</td>\n",
              "      <td>202994</td>\n",
              "      <td>Some-college</td>\n",
              "      <td>10</td>\n",
              "      <td>Never-married</td>\n",
              "      <td>?</td>\n",
              "      <td>Own-child</td>\n",
              "      <td>White</td>\n",
              "      <td>Female</td>\n",
              "      <td>0</td>\n",
              "      <td>0</td>\n",
              "      <td>16</td>\n",
              "      <td>United-States</td>\n",
              "      <td>&lt;=50K</td>\n",
              "    </tr>\n",
              "    <tr>\n",
              "      <th>34</th>\n",
              "      <td>34</td>\n",
              "      <td>31</td>\n",
              "      <td>?</td>\n",
              "      <td>505438</td>\n",
              "      <td>HS-grad</td>\n",
              "      <td>9</td>\n",
              "      <td>Married-civ-spouse</td>\n",
              "      <td>?</td>\n",
              "      <td>Husband</td>\n",
              "      <td>White</td>\n",
              "      <td>Male</td>\n",
              "      <td>0</td>\n",
              "      <td>0</td>\n",
              "      <td>30</td>\n",
              "      <td>Mexico</td>\n",
              "      <td>&lt;=50K</td>\n",
              "    </tr>\n",
              "    <tr>\n",
              "      <th>66</th>\n",
              "      <td>66</td>\n",
              "      <td>67</td>\n",
              "      <td>?</td>\n",
              "      <td>39100</td>\n",
              "      <td>HS-grad</td>\n",
              "      <td>9</td>\n",
              "      <td>Married-civ-spouse</td>\n",
              "      <td>?</td>\n",
              "      <td>Wife</td>\n",
              "      <td>White</td>\n",
              "      <td>Female</td>\n",
              "      <td>0</td>\n",
              "      <td>0</td>\n",
              "      <td>5</td>\n",
              "      <td>United-States</td>\n",
              "      <td>&lt;=50K</td>\n",
              "    </tr>\n",
              "    <tr>\n",
              "      <th>...</th>\n",
              "      <td>...</td>\n",
              "      <td>...</td>\n",
              "      <td>...</td>\n",
              "      <td>...</td>\n",
              "      <td>...</td>\n",
              "      <td>...</td>\n",
              "      <td>...</td>\n",
              "      <td>...</td>\n",
              "      <td>...</td>\n",
              "      <td>...</td>\n",
              "      <td>...</td>\n",
              "      <td>...</td>\n",
              "      <td>...</td>\n",
              "      <td>...</td>\n",
              "      <td>...</td>\n",
              "      <td>...</td>\n",
              "    </tr>\n",
              "    <tr>\n",
              "      <th>26009</th>\n",
              "      <td>26009</td>\n",
              "      <td>73</td>\n",
              "      <td>?</td>\n",
              "      <td>89852</td>\n",
              "      <td>1st-4th</td>\n",
              "      <td>2</td>\n",
              "      <td>Married-civ-spouse</td>\n",
              "      <td>?</td>\n",
              "      <td>Husband</td>\n",
              "      <td>White</td>\n",
              "      <td>Male</td>\n",
              "      <td>0</td>\n",
              "      <td>0</td>\n",
              "      <td>40</td>\n",
              "      <td>Portugal</td>\n",
              "      <td>&lt;=50K</td>\n",
              "    </tr>\n",
              "    <tr>\n",
              "      <th>26010</th>\n",
              "      <td>26010</td>\n",
              "      <td>63</td>\n",
              "      <td>?</td>\n",
              "      <td>321403</td>\n",
              "      <td>9th</td>\n",
              "      <td>5</td>\n",
              "      <td>Separated</td>\n",
              "      <td>?</td>\n",
              "      <td>Not-in-family</td>\n",
              "      <td>Black</td>\n",
              "      <td>Male</td>\n",
              "      <td>0</td>\n",
              "      <td>0</td>\n",
              "      <td>40</td>\n",
              "      <td>United-States</td>\n",
              "      <td>&lt;=50K</td>\n",
              "    </tr>\n",
              "    <tr>\n",
              "      <th>26012</th>\n",
              "      <td>26012</td>\n",
              "      <td>36</td>\n",
              "      <td>?</td>\n",
              "      <td>214896</td>\n",
              "      <td>9th</td>\n",
              "      <td>5</td>\n",
              "      <td>Divorced</td>\n",
              "      <td>?</td>\n",
              "      <td>Unmarried</td>\n",
              "      <td>White</td>\n",
              "      <td>Female</td>\n",
              "      <td>0</td>\n",
              "      <td>0</td>\n",
              "      <td>40</td>\n",
              "      <td>Mexico</td>\n",
              "      <td>&lt;=50K</td>\n",
              "    </tr>\n",
              "    <tr>\n",
              "      <th>26046</th>\n",
              "      <td>26046</td>\n",
              "      <td>78</td>\n",
              "      <td>?</td>\n",
              "      <td>165694</td>\n",
              "      <td>Masters</td>\n",
              "      <td>14</td>\n",
              "      <td>Widowed</td>\n",
              "      <td>?</td>\n",
              "      <td>Not-in-family</td>\n",
              "      <td>White</td>\n",
              "      <td>Female</td>\n",
              "      <td>0</td>\n",
              "      <td>0</td>\n",
              "      <td>15</td>\n",
              "      <td>United-States</td>\n",
              "      <td>&lt;=50K</td>\n",
              "    </tr>\n",
              "    <tr>\n",
              "      <th>26048</th>\n",
              "      <td>26048</td>\n",
              "      <td>20</td>\n",
              "      <td>?</td>\n",
              "      <td>99891</td>\n",
              "      <td>Some-college</td>\n",
              "      <td>10</td>\n",
              "      <td>Never-married</td>\n",
              "      <td>?</td>\n",
              "      <td>Own-child</td>\n",
              "      <td>White</td>\n",
              "      <td>Female</td>\n",
              "      <td>0</td>\n",
              "      <td>0</td>\n",
              "      <td>30</td>\n",
              "      <td>United-States</td>\n",
              "      <td>&lt;=50K</td>\n",
              "    </tr>\n",
              "  </tbody>\n",
              "</table>\n",
              "<p>1943 rows × 16 columns</p>\n",
              "</div>"
            ],
            "text/plain": [
              "          id  age workclass  ...  hours_per_week native_country  income\n",
              "4          4   24   Private  ...              20              ?   <=50K\n",
              "11        11   21         ?  ...              35  United-States   <=50K\n",
              "30        30   20         ?  ...              16  United-States   <=50K\n",
              "34        34   31         ?  ...              30         Mexico   <=50K\n",
              "66        66   67         ?  ...               5  United-States   <=50K\n",
              "...      ...  ...       ...  ...             ...            ...     ...\n",
              "26009  26009   73         ?  ...              40       Portugal   <=50K\n",
              "26010  26010   63         ?  ...              40  United-States   <=50K\n",
              "26012  26012   36         ?  ...              40         Mexico   <=50K\n",
              "26046  26046   78         ?  ...              15  United-States   <=50K\n",
              "26048  26048   20         ?  ...              30  United-States   <=50K\n",
              "\n",
              "[1943 rows x 16 columns]"
            ]
          },
          "metadata": {
            "tags": []
          },
          "execution_count": 32
        }
      ]
    },
    {
      "cell_type": "code",
      "metadata": {
        "colab": {
          "base_uri": "https://localhost:8080/"
        },
        "id": "_GJeKn3_Jd8q",
        "outputId": "0259e4d8-2f6b-4e1a-b102-5d7127f1cc5a"
      },
      "source": [
        "train.occupation.value_counts()"
      ],
      "execution_count": 33,
      "outputs": [
        {
          "output_type": "execute_result",
          "data": {
            "text/plain": [
              "Prof-specialty       3304\n",
              "Craft-repair         3262\n",
              "Exec-managerial      3246\n",
              "Sales                2998\n",
              "Adm-clerical         2983\n",
              "Other-service        2626\n",
              "Machine-op-inspct    1582\n",
              "?                    1508\n",
              "Transport-moving     1270\n",
              "Handlers-cleaners    1092\n",
              "Farming-fishing       784\n",
              "Tech-support          742\n",
              "Protective-serv       522\n",
              "Priv-house-serv       123\n",
              "Armed-Forces            7\n",
              "Name: occupation, dtype: int64"
            ]
          },
          "metadata": {
            "tags": []
          },
          "execution_count": 33
        }
      ]
    },
    {
      "cell_type": "code",
      "metadata": {
        "colab": {
          "base_uri": "https://localhost:8080/"
        },
        "id": "uzaMMTYHJfq_",
        "outputId": "93435f9d-2adf-41b4-d39e-2636a7fb6b84"
      },
      "source": [
        "train.workclass.value_counts()"
      ],
      "execution_count": 34,
      "outputs": [
        {
          "output_type": "execute_result",
          "data": {
            "text/plain": [
              "Private             18123\n",
              "Self-emp-not-inc     2030\n",
              "Local-gov            1692\n",
              "?                    1502\n",
              "State-gov            1043\n",
              "Self-emp-inc          877\n",
              "Federal-gov           765\n",
              "Without-pay            11\n",
              "Never-worked            6\n",
              "Name: workclass, dtype: int64"
            ]
          },
          "metadata": {
            "tags": []
          },
          "execution_count": 34
        }
      ]
    },
    {
      "cell_type": "markdown",
      "metadata": {
        "id": "5own8YaeJlqN"
      },
      "source": [
        "결측치 처리\n",
        "삭제? 대치?"
      ]
    },
    {
      "cell_type": "code",
      "metadata": {
        "colab": {
          "base_uri": "https://localhost:8080/",
          "height": 484
        },
        "id": "AjHa72IOJhkR",
        "outputId": "d23b5ea5-f295-4386-98ef-59b47765fe51"
      },
      "source": [
        "# && 가 아니라 &임\n",
        "# 비트연산에서 T,F 하나씩 비교 할려면 &가 하나여야 한다.\n",
        "# ?가 양쪽인거 찾기\n",
        "train[(train['workclass'] == '?')&(train['occupation'] == '?')]"
      ],
      "execution_count": 35,
      "outputs": [
        {
          "output_type": "execute_result",
          "data": {
            "text/html": [
              "<div>\n",
              "<style scoped>\n",
              "    .dataframe tbody tr th:only-of-type {\n",
              "        vertical-align: middle;\n",
              "    }\n",
              "\n",
              "    .dataframe tbody tr th {\n",
              "        vertical-align: top;\n",
              "    }\n",
              "\n",
              "    .dataframe thead th {\n",
              "        text-align: right;\n",
              "    }\n",
              "</style>\n",
              "<table border=\"1\" class=\"dataframe\">\n",
              "  <thead>\n",
              "    <tr style=\"text-align: right;\">\n",
              "      <th></th>\n",
              "      <th>id</th>\n",
              "      <th>age</th>\n",
              "      <th>workclass</th>\n",
              "      <th>fnlwgt</th>\n",
              "      <th>education</th>\n",
              "      <th>education_num</th>\n",
              "      <th>marital_status</th>\n",
              "      <th>occupation</th>\n",
              "      <th>relationship</th>\n",
              "      <th>race</th>\n",
              "      <th>sex</th>\n",
              "      <th>capital_gain</th>\n",
              "      <th>capital_loss</th>\n",
              "      <th>hours_per_week</th>\n",
              "      <th>native_country</th>\n",
              "      <th>income</th>\n",
              "    </tr>\n",
              "  </thead>\n",
              "  <tbody>\n",
              "    <tr>\n",
              "      <th>11</th>\n",
              "      <td>11</td>\n",
              "      <td>21</td>\n",
              "      <td>?</td>\n",
              "      <td>204226</td>\n",
              "      <td>Some-college</td>\n",
              "      <td>10</td>\n",
              "      <td>Never-married</td>\n",
              "      <td>?</td>\n",
              "      <td>Unmarried</td>\n",
              "      <td>White</td>\n",
              "      <td>Female</td>\n",
              "      <td>0</td>\n",
              "      <td>0</td>\n",
              "      <td>35</td>\n",
              "      <td>United-States</td>\n",
              "      <td>&lt;=50K</td>\n",
              "    </tr>\n",
              "    <tr>\n",
              "      <th>30</th>\n",
              "      <td>30</td>\n",
              "      <td>20</td>\n",
              "      <td>?</td>\n",
              "      <td>202994</td>\n",
              "      <td>Some-college</td>\n",
              "      <td>10</td>\n",
              "      <td>Never-married</td>\n",
              "      <td>?</td>\n",
              "      <td>Own-child</td>\n",
              "      <td>White</td>\n",
              "      <td>Female</td>\n",
              "      <td>0</td>\n",
              "      <td>0</td>\n",
              "      <td>16</td>\n",
              "      <td>United-States</td>\n",
              "      <td>&lt;=50K</td>\n",
              "    </tr>\n",
              "    <tr>\n",
              "      <th>34</th>\n",
              "      <td>34</td>\n",
              "      <td>31</td>\n",
              "      <td>?</td>\n",
              "      <td>505438</td>\n",
              "      <td>HS-grad</td>\n",
              "      <td>9</td>\n",
              "      <td>Married-civ-spouse</td>\n",
              "      <td>?</td>\n",
              "      <td>Husband</td>\n",
              "      <td>White</td>\n",
              "      <td>Male</td>\n",
              "      <td>0</td>\n",
              "      <td>0</td>\n",
              "      <td>30</td>\n",
              "      <td>Mexico</td>\n",
              "      <td>&lt;=50K</td>\n",
              "    </tr>\n",
              "    <tr>\n",
              "      <th>66</th>\n",
              "      <td>66</td>\n",
              "      <td>67</td>\n",
              "      <td>?</td>\n",
              "      <td>39100</td>\n",
              "      <td>HS-grad</td>\n",
              "      <td>9</td>\n",
              "      <td>Married-civ-spouse</td>\n",
              "      <td>?</td>\n",
              "      <td>Wife</td>\n",
              "      <td>White</td>\n",
              "      <td>Female</td>\n",
              "      <td>0</td>\n",
              "      <td>0</td>\n",
              "      <td>5</td>\n",
              "      <td>United-States</td>\n",
              "      <td>&lt;=50K</td>\n",
              "    </tr>\n",
              "    <tr>\n",
              "      <th>67</th>\n",
              "      <td>67</td>\n",
              "      <td>65</td>\n",
              "      <td>?</td>\n",
              "      <td>404601</td>\n",
              "      <td>HS-grad</td>\n",
              "      <td>9</td>\n",
              "      <td>Married-civ-spouse</td>\n",
              "      <td>?</td>\n",
              "      <td>Husband</td>\n",
              "      <td>White</td>\n",
              "      <td>Male</td>\n",
              "      <td>2414</td>\n",
              "      <td>0</td>\n",
              "      <td>30</td>\n",
              "      <td>United-States</td>\n",
              "      <td>&lt;=50K</td>\n",
              "    </tr>\n",
              "    <tr>\n",
              "      <th>...</th>\n",
              "      <td>...</td>\n",
              "      <td>...</td>\n",
              "      <td>...</td>\n",
              "      <td>...</td>\n",
              "      <td>...</td>\n",
              "      <td>...</td>\n",
              "      <td>...</td>\n",
              "      <td>...</td>\n",
              "      <td>...</td>\n",
              "      <td>...</td>\n",
              "      <td>...</td>\n",
              "      <td>...</td>\n",
              "      <td>...</td>\n",
              "      <td>...</td>\n",
              "      <td>...</td>\n",
              "      <td>...</td>\n",
              "    </tr>\n",
              "    <tr>\n",
              "      <th>26009</th>\n",
              "      <td>26009</td>\n",
              "      <td>73</td>\n",
              "      <td>?</td>\n",
              "      <td>89852</td>\n",
              "      <td>1st-4th</td>\n",
              "      <td>2</td>\n",
              "      <td>Married-civ-spouse</td>\n",
              "      <td>?</td>\n",
              "      <td>Husband</td>\n",
              "      <td>White</td>\n",
              "      <td>Male</td>\n",
              "      <td>0</td>\n",
              "      <td>0</td>\n",
              "      <td>40</td>\n",
              "      <td>Portugal</td>\n",
              "      <td>&lt;=50K</td>\n",
              "    </tr>\n",
              "    <tr>\n",
              "      <th>26010</th>\n",
              "      <td>26010</td>\n",
              "      <td>63</td>\n",
              "      <td>?</td>\n",
              "      <td>321403</td>\n",
              "      <td>9th</td>\n",
              "      <td>5</td>\n",
              "      <td>Separated</td>\n",
              "      <td>?</td>\n",
              "      <td>Not-in-family</td>\n",
              "      <td>Black</td>\n",
              "      <td>Male</td>\n",
              "      <td>0</td>\n",
              "      <td>0</td>\n",
              "      <td>40</td>\n",
              "      <td>United-States</td>\n",
              "      <td>&lt;=50K</td>\n",
              "    </tr>\n",
              "    <tr>\n",
              "      <th>26012</th>\n",
              "      <td>26012</td>\n",
              "      <td>36</td>\n",
              "      <td>?</td>\n",
              "      <td>214896</td>\n",
              "      <td>9th</td>\n",
              "      <td>5</td>\n",
              "      <td>Divorced</td>\n",
              "      <td>?</td>\n",
              "      <td>Unmarried</td>\n",
              "      <td>White</td>\n",
              "      <td>Female</td>\n",
              "      <td>0</td>\n",
              "      <td>0</td>\n",
              "      <td>40</td>\n",
              "      <td>Mexico</td>\n",
              "      <td>&lt;=50K</td>\n",
              "    </tr>\n",
              "    <tr>\n",
              "      <th>26046</th>\n",
              "      <td>26046</td>\n",
              "      <td>78</td>\n",
              "      <td>?</td>\n",
              "      <td>165694</td>\n",
              "      <td>Masters</td>\n",
              "      <td>14</td>\n",
              "      <td>Widowed</td>\n",
              "      <td>?</td>\n",
              "      <td>Not-in-family</td>\n",
              "      <td>White</td>\n",
              "      <td>Female</td>\n",
              "      <td>0</td>\n",
              "      <td>0</td>\n",
              "      <td>15</td>\n",
              "      <td>United-States</td>\n",
              "      <td>&lt;=50K</td>\n",
              "    </tr>\n",
              "    <tr>\n",
              "      <th>26048</th>\n",
              "      <td>26048</td>\n",
              "      <td>20</td>\n",
              "      <td>?</td>\n",
              "      <td>99891</td>\n",
              "      <td>Some-college</td>\n",
              "      <td>10</td>\n",
              "      <td>Never-married</td>\n",
              "      <td>?</td>\n",
              "      <td>Own-child</td>\n",
              "      <td>White</td>\n",
              "      <td>Female</td>\n",
              "      <td>0</td>\n",
              "      <td>0</td>\n",
              "      <td>30</td>\n",
              "      <td>United-States</td>\n",
              "      <td>&lt;=50K</td>\n",
              "    </tr>\n",
              "  </tbody>\n",
              "</table>\n",
              "<p>1502 rows × 16 columns</p>\n",
              "</div>"
            ],
            "text/plain": [
              "          id  age workclass  ...  hours_per_week native_country  income\n",
              "11        11   21         ?  ...              35  United-States   <=50K\n",
              "30        30   20         ?  ...              16  United-States   <=50K\n",
              "34        34   31         ?  ...              30         Mexico   <=50K\n",
              "66        66   67         ?  ...               5  United-States   <=50K\n",
              "67        67   65         ?  ...              30  United-States   <=50K\n",
              "...      ...  ...       ...  ...             ...            ...     ...\n",
              "26009  26009   73         ?  ...              40       Portugal   <=50K\n",
              "26010  26010   63         ?  ...              40  United-States   <=50K\n",
              "26012  26012   36         ?  ...              40         Mexico   <=50K\n",
              "26046  26046   78         ?  ...              15  United-States   <=50K\n",
              "26048  26048   20         ?  ...              30  United-States   <=50K\n",
              "\n",
              "[1502 rows x 16 columns]"
            ]
          },
          "metadata": {
            "tags": []
          },
          "execution_count": 35
        }
      ]
    },
    {
      "cell_type": "code",
      "metadata": {
        "colab": {
          "base_uri": "https://localhost:8080/",
          "height": 434
        },
        "id": "5amPxct7sVyF",
        "outputId": "e280efd7-5959-4dc2-9ea2-7d16037c4062"
      },
      "source": [
        "#반대로 == 가 아니라 != 으로 하면\n",
        "# No == ? 생각????\n",
        "train[(train['workclass'] != '?')&(train['occupation'] == '?')]"
      ],
      "execution_count": 42,
      "outputs": [
        {
          "output_type": "execute_result",
          "data": {
            "text/html": [
              "<div>\n",
              "<style scoped>\n",
              "    .dataframe tbody tr th:only-of-type {\n",
              "        vertical-align: middle;\n",
              "    }\n",
              "\n",
              "    .dataframe tbody tr th {\n",
              "        vertical-align: top;\n",
              "    }\n",
              "\n",
              "    .dataframe thead th {\n",
              "        text-align: right;\n",
              "    }\n",
              "</style>\n",
              "<table border=\"1\" class=\"dataframe\">\n",
              "  <thead>\n",
              "    <tr style=\"text-align: right;\">\n",
              "      <th></th>\n",
              "      <th>id</th>\n",
              "      <th>age</th>\n",
              "      <th>workclass</th>\n",
              "      <th>fnlwgt</th>\n",
              "      <th>education</th>\n",
              "      <th>education_num</th>\n",
              "      <th>marital_status</th>\n",
              "      <th>occupation</th>\n",
              "      <th>relationship</th>\n",
              "      <th>race</th>\n",
              "      <th>sex</th>\n",
              "      <th>capital_gain</th>\n",
              "      <th>capital_loss</th>\n",
              "      <th>hours_per_week</th>\n",
              "      <th>native_country</th>\n",
              "      <th>income</th>\n",
              "    </tr>\n",
              "  </thead>\n",
              "  <tbody>\n",
              "    <tr>\n",
              "      <th>34</th>\n",
              "      <td>34</td>\n",
              "      <td>31</td>\n",
              "      <td>No</td>\n",
              "      <td>505438</td>\n",
              "      <td>HS-grad</td>\n",
              "      <td>9</td>\n",
              "      <td>Married-civ-spouse</td>\n",
              "      <td>?</td>\n",
              "      <td>Husband</td>\n",
              "      <td>White</td>\n",
              "      <td>Male</td>\n",
              "      <td>0</td>\n",
              "      <td>0</td>\n",
              "      <td>30</td>\n",
              "      <td>Mexico</td>\n",
              "      <td>&lt;=50K</td>\n",
              "    </tr>\n",
              "    <tr>\n",
              "      <th>66</th>\n",
              "      <td>66</td>\n",
              "      <td>67</td>\n",
              "      <td>No</td>\n",
              "      <td>39100</td>\n",
              "      <td>HS-grad</td>\n",
              "      <td>9</td>\n",
              "      <td>Married-civ-spouse</td>\n",
              "      <td>?</td>\n",
              "      <td>Wife</td>\n",
              "      <td>White</td>\n",
              "      <td>Female</td>\n",
              "      <td>0</td>\n",
              "      <td>0</td>\n",
              "      <td>5</td>\n",
              "      <td>United-States</td>\n",
              "      <td>&lt;=50K</td>\n",
              "    </tr>\n",
              "    <tr>\n",
              "      <th>67</th>\n",
              "      <td>67</td>\n",
              "      <td>65</td>\n",
              "      <td>No</td>\n",
              "      <td>404601</td>\n",
              "      <td>HS-grad</td>\n",
              "      <td>9</td>\n",
              "      <td>Married-civ-spouse</td>\n",
              "      <td>?</td>\n",
              "      <td>Husband</td>\n",
              "      <td>White</td>\n",
              "      <td>Male</td>\n",
              "      <td>2414</td>\n",
              "      <td>0</td>\n",
              "      <td>30</td>\n",
              "      <td>United-States</td>\n",
              "      <td>&lt;=50K</td>\n",
              "    </tr>\n",
              "    <tr>\n",
              "      <th>103</th>\n",
              "      <td>103</td>\n",
              "      <td>34</td>\n",
              "      <td>No</td>\n",
              "      <td>146589</td>\n",
              "      <td>HS-grad</td>\n",
              "      <td>9</td>\n",
              "      <td>Never-married</td>\n",
              "      <td>?</td>\n",
              "      <td>Unmarried</td>\n",
              "      <td>Black</td>\n",
              "      <td>Female</td>\n",
              "      <td>0</td>\n",
              "      <td>0</td>\n",
              "      <td>40</td>\n",
              "      <td>United-States</td>\n",
              "      <td>&lt;=50K</td>\n",
              "    </tr>\n",
              "    <tr>\n",
              "      <th>134</th>\n",
              "      <td>134</td>\n",
              "      <td>48</td>\n",
              "      <td>No</td>\n",
              "      <td>174533</td>\n",
              "      <td>11th</td>\n",
              "      <td>7</td>\n",
              "      <td>Separated</td>\n",
              "      <td>?</td>\n",
              "      <td>Unmarried</td>\n",
              "      <td>White</td>\n",
              "      <td>Male</td>\n",
              "      <td>0</td>\n",
              "      <td>0</td>\n",
              "      <td>40</td>\n",
              "      <td>United-States</td>\n",
              "      <td>&lt;=50K</td>\n",
              "    </tr>\n",
              "    <tr>\n",
              "      <th>...</th>\n",
              "      <td>...</td>\n",
              "      <td>...</td>\n",
              "      <td>...</td>\n",
              "      <td>...</td>\n",
              "      <td>...</td>\n",
              "      <td>...</td>\n",
              "      <td>...</td>\n",
              "      <td>...</td>\n",
              "      <td>...</td>\n",
              "      <td>...</td>\n",
              "      <td>...</td>\n",
              "      <td>...</td>\n",
              "      <td>...</td>\n",
              "      <td>...</td>\n",
              "      <td>...</td>\n",
              "      <td>...</td>\n",
              "    </tr>\n",
              "    <tr>\n",
              "      <th>25991</th>\n",
              "      <td>25991</td>\n",
              "      <td>35</td>\n",
              "      <td>No</td>\n",
              "      <td>117528</td>\n",
              "      <td>Assoc-voc</td>\n",
              "      <td>11</td>\n",
              "      <td>Married-civ-spouse</td>\n",
              "      <td>?</td>\n",
              "      <td>Wife</td>\n",
              "      <td>White</td>\n",
              "      <td>Female</td>\n",
              "      <td>0</td>\n",
              "      <td>0</td>\n",
              "      <td>40</td>\n",
              "      <td>United-States</td>\n",
              "      <td>&gt;50K</td>\n",
              "    </tr>\n",
              "    <tr>\n",
              "      <th>26009</th>\n",
              "      <td>26009</td>\n",
              "      <td>73</td>\n",
              "      <td>No</td>\n",
              "      <td>89852</td>\n",
              "      <td>1st-4th</td>\n",
              "      <td>2</td>\n",
              "      <td>Married-civ-spouse</td>\n",
              "      <td>?</td>\n",
              "      <td>Husband</td>\n",
              "      <td>White</td>\n",
              "      <td>Male</td>\n",
              "      <td>0</td>\n",
              "      <td>0</td>\n",
              "      <td>40</td>\n",
              "      <td>Portugal</td>\n",
              "      <td>&lt;=50K</td>\n",
              "    </tr>\n",
              "    <tr>\n",
              "      <th>26010</th>\n",
              "      <td>26010</td>\n",
              "      <td>63</td>\n",
              "      <td>No</td>\n",
              "      <td>321403</td>\n",
              "      <td>9th</td>\n",
              "      <td>5</td>\n",
              "      <td>Separated</td>\n",
              "      <td>?</td>\n",
              "      <td>Not-in-family</td>\n",
              "      <td>Black</td>\n",
              "      <td>Male</td>\n",
              "      <td>0</td>\n",
              "      <td>0</td>\n",
              "      <td>40</td>\n",
              "      <td>United-States</td>\n",
              "      <td>&lt;=50K</td>\n",
              "    </tr>\n",
              "    <tr>\n",
              "      <th>26012</th>\n",
              "      <td>26012</td>\n",
              "      <td>36</td>\n",
              "      <td>No</td>\n",
              "      <td>214896</td>\n",
              "      <td>9th</td>\n",
              "      <td>5</td>\n",
              "      <td>Divorced</td>\n",
              "      <td>?</td>\n",
              "      <td>Unmarried</td>\n",
              "      <td>White</td>\n",
              "      <td>Female</td>\n",
              "      <td>0</td>\n",
              "      <td>0</td>\n",
              "      <td>40</td>\n",
              "      <td>Mexico</td>\n",
              "      <td>&lt;=50K</td>\n",
              "    </tr>\n",
              "    <tr>\n",
              "      <th>26046</th>\n",
              "      <td>26046</td>\n",
              "      <td>78</td>\n",
              "      <td>No</td>\n",
              "      <td>165694</td>\n",
              "      <td>Masters</td>\n",
              "      <td>14</td>\n",
              "      <td>Widowed</td>\n",
              "      <td>?</td>\n",
              "      <td>Not-in-family</td>\n",
              "      <td>White</td>\n",
              "      <td>Female</td>\n",
              "      <td>0</td>\n",
              "      <td>0</td>\n",
              "      <td>15</td>\n",
              "      <td>United-States</td>\n",
              "      <td>&lt;=50K</td>\n",
              "    </tr>\n",
              "  </tbody>\n",
              "</table>\n",
              "<p>874 rows × 16 columns</p>\n",
              "</div>"
            ],
            "text/plain": [
              "          id  age workclass  ...  hours_per_week native_country  income\n",
              "34        34   31        No  ...              30         Mexico   <=50K\n",
              "66        66   67        No  ...               5  United-States   <=50K\n",
              "67        67   65        No  ...              30  United-States   <=50K\n",
              "103      103   34        No  ...              40  United-States   <=50K\n",
              "134      134   48        No  ...              40  United-States   <=50K\n",
              "...      ...  ...       ...  ...             ...            ...     ...\n",
              "25991  25991   35        No  ...              40  United-States    >50K\n",
              "26009  26009   73        No  ...              40       Portugal   <=50K\n",
              "26010  26010   63        No  ...              40  United-States   <=50K\n",
              "26012  26012   36        No  ...              40         Mexico   <=50K\n",
              "26046  26046   78        No  ...              15  United-States   <=50K\n",
              "\n",
              "[874 rows x 16 columns]"
            ]
          },
          "metadata": {
            "tags": []
          },
          "execution_count": 42
        }
      ]
    },
    {
      "cell_type": "code",
      "metadata": {
        "colab": {
          "base_uri": "https://localhost:8080/",
          "height": 68
        },
        "id": "5A6Vob2MtW1D",
        "outputId": "7dd5ff11-35eb-4f4b-913b-1c00bc6bf136"
      },
      "source": [
        "# \n",
        "train[(train['workclass'] == '?')&(train['occupation'] != '?')]"
      ],
      "execution_count": 43,
      "outputs": [
        {
          "output_type": "execute_result",
          "data": {
            "text/html": [
              "<div>\n",
              "<style scoped>\n",
              "    .dataframe tbody tr th:only-of-type {\n",
              "        vertical-align: middle;\n",
              "    }\n",
              "\n",
              "    .dataframe tbody tr th {\n",
              "        vertical-align: top;\n",
              "    }\n",
              "\n",
              "    .dataframe thead th {\n",
              "        text-align: right;\n",
              "    }\n",
              "</style>\n",
              "<table border=\"1\" class=\"dataframe\">\n",
              "  <thead>\n",
              "    <tr style=\"text-align: right;\">\n",
              "      <th></th>\n",
              "      <th>id</th>\n",
              "      <th>age</th>\n",
              "      <th>workclass</th>\n",
              "      <th>fnlwgt</th>\n",
              "      <th>education</th>\n",
              "      <th>education_num</th>\n",
              "      <th>marital_status</th>\n",
              "      <th>occupation</th>\n",
              "      <th>relationship</th>\n",
              "      <th>race</th>\n",
              "      <th>sex</th>\n",
              "      <th>capital_gain</th>\n",
              "      <th>capital_loss</th>\n",
              "      <th>hours_per_week</th>\n",
              "      <th>native_country</th>\n",
              "      <th>income</th>\n",
              "    </tr>\n",
              "  </thead>\n",
              "  <tbody>\n",
              "  </tbody>\n",
              "</table>\n",
              "</div>"
            ],
            "text/plain": [
              "Empty DataFrame\n",
              "Columns: [id, age, workclass, fnlwgt, education, education_num, marital_status, occupation, relationship, race, sex, capital_gain, capital_loss, hours_per_week, native_country, income]\n",
              "Index: []"
            ]
          },
          "metadata": {
            "tags": []
          },
          "execution_count": 43
        }
      ]
    },
    {
      "cell_type": "code",
      "metadata": {
        "id": "llk8HQQAJoTd"
      },
      "source": [
        "# workclass dptj ?를 No 대치\n",
        "train.loc[(train.age >= 30)&(train.workclass=='?'), 'workclass'] = 'No'"
      ],
      "execution_count": 36,
      "outputs": []
    },
    {
      "cell_type": "code",
      "metadata": {
        "colab": {
          "base_uri": "https://localhost:8080/"
        },
        "id": "OWJ4CztjJs-U",
        "outputId": "b8216a61-f208-4c5a-dde7-924b79bac944"
      },
      "source": [
        "train.workclass.value_counts()"
      ],
      "execution_count": 37,
      "outputs": [
        {
          "output_type": "execute_result",
          "data": {
            "text/plain": [
              "Private             18123\n",
              "Self-emp-not-inc     2030\n",
              "Local-gov            1692\n",
              "State-gov            1043\n",
              "Self-emp-inc          877\n",
              "No                    868\n",
              "Federal-gov           765\n",
              "?                     634\n",
              "Without-pay            11\n",
              "Never-worked            6\n",
              "Name: workclass, dtype: int64"
            ]
          },
          "metadata": {
            "tags": []
          },
          "execution_count": 37
        }
      ]
    },
    {
      "cell_type": "code",
      "metadata": {
        "colab": {
          "base_uri": "https://localhost:8080/"
        },
        "id": "DpnHAfWjJvaC",
        "outputId": "24a52bcd-c4d0-4b62-b60c-711f582d1abf"
      },
      "source": [
        "# 나라중 ? 나라는 어떻게 처리 할까???\n",
        "# 에러냐 미기입이냐\n",
        "train.native_country.value_counts()"
      ],
      "execution_count": 38,
      "outputs": [
        {
          "output_type": "execute_result",
          "data": {
            "text/plain": [
              "United-States                 23371\n",
              "Mexico                          534\n",
              "?                               456\n",
              "Philippines                     163\n",
              "Germany                         101\n",
              "Puerto-Rico                      95\n",
              "Canada                           92\n",
              "El-Salvador                      79\n",
              "India                            77\n",
              "Cuba                             76\n",
              "England                          67\n",
              "Jamaica                          64\n",
              "South                            63\n",
              "China                            57\n",
              "Columbia                         52\n",
              "Guatemala                        52\n",
              "Italy                            50\n",
              "Vietnam                          50\n",
              "Dominican-Republic               48\n",
              "Poland                           47\n",
              "Japan                            47\n",
              "Taiwan                           39\n",
              "Iran                             35\n",
              "Haiti                            35\n",
              "Portugal                         30\n",
              "Nicaragua                        28\n",
              "Peru                             26\n",
              "Greece                           24\n",
              "Ecuador                          24\n",
              "France                           24\n",
              "Ireland                          18\n",
              "Laos                             15\n",
              "Hong                             14\n",
              "Trinadad&Tobago                  14\n",
              "Cambodia                         14\n",
              "Thailand                         13\n",
              "Outlying-US(Guam-USVI-etc)       13\n",
              "Yugoslavia                       12\n",
              "Hungary                          11\n",
              "Honduras                         11\n",
              "Scotland                          8\n",
              "Name: native_country, dtype: int64"
            ]
          },
          "metadata": {
            "tags": []
          },
          "execution_count": 38
        }
      ]
    },
    {
      "cell_type": "markdown",
      "metadata": {
        "id": "ePkTZUiKjxkM"
      },
      "source": [
        "Null check 관련 팁\n",
        "데이터를 일일이 다 확인하지 않고 결측치가 있는지 확인하는 방법은?"
      ]
    },
    {
      "cell_type": "code",
      "metadata": {
        "id": "_WzVrSgaJxOC",
        "colab": {
          "base_uri": "https://localhost:8080/"
        },
        "outputId": "6e1e3854-411e-4b4c-b53e-fbc8f1a70ce0"
      },
      "source": [
        "# null 타입을 잘 확인하라...\n",
        "train.info()"
      ],
      "execution_count": 39,
      "outputs": [
        {
          "output_type": "stream",
          "text": [
            "<class 'pandas.core.frame.DataFrame'>\n",
            "RangeIndex: 26049 entries, 0 to 26048\n",
            "Data columns (total 16 columns):\n",
            " #   Column          Non-Null Count  Dtype \n",
            "---  ------          --------------  ----- \n",
            " 0   id              26049 non-null  int64 \n",
            " 1   age             26049 non-null  int64 \n",
            " 2   workclass       26049 non-null  object\n",
            " 3   fnlwgt          26049 non-null  int64 \n",
            " 4   education       26049 non-null  object\n",
            " 5   education_num   26049 non-null  int64 \n",
            " 6   marital_status  26049 non-null  object\n",
            " 7   occupation      26049 non-null  object\n",
            " 8   relationship    26049 non-null  object\n",
            " 9   race            26049 non-null  object\n",
            " 10  sex             26049 non-null  object\n",
            " 11  capital_gain    26049 non-null  int64 \n",
            " 12  capital_loss    26049 non-null  int64 \n",
            " 13  hours_per_week  26049 non-null  int64 \n",
            " 14  native_country  26049 non-null  object\n",
            " 15  income          26049 non-null  object\n",
            "dtypes: int64(7), object(9)\n",
            "memory usage: 3.2+ MB\n"
          ],
          "name": "stdout"
        }
      ]
    },
    {
      "cell_type": "code",
      "metadata": {
        "colab": {
          "base_uri": "https://localhost:8080/"
        },
        "id": "PVHD8SCxvamS",
        "outputId": "bab961b6-6894-404b-a28a-d3cac71ffb4d"
      },
      "source": [
        "2/7"
      ],
      "execution_count": 44,
      "outputs": [
        {
          "output_type": "execute_result",
          "data": {
            "text/plain": [
              "0.2857142857142857"
            ]
          },
          "metadata": {
            "tags": []
          },
          "execution_count": 44
        }
      ]
    },
    {
      "cell_type": "code",
      "metadata": {
        "id": "1EOBW4sLvdNA"
      },
      "source": [
        "a=2/7"
      ],
      "execution_count": 45,
      "outputs": []
    },
    {
      "cell_type": "code",
      "metadata": {
        "colab": {
          "base_uri": "https://localhost:8080/",
          "height": 34
        },
        "id": "lScuvhp9vjdq",
        "outputId": "755c5ed6-e491-48f7-d105-a607ee0eead3"
      },
      "source": [
        "f\"{a}\""
      ],
      "execution_count": 47,
      "outputs": [
        {
          "output_type": "execute_result",
          "data": {
            "application/vnd.google.colaboratory.intrinsic+json": {
              "type": "string"
            },
            "text/plain": [
              "'0.2857142857142857'"
            ]
          },
          "metadata": {
            "tags": []
          },
          "execution_count": 47
        }
      ]
    },
    {
      "cell_type": "code",
      "metadata": {
        "colab": {
          "base_uri": "https://localhost:8080/",
          "height": 34
        },
        "id": "wMF-BKVZvsy-",
        "outputId": "727420d2-df6e-4da4-a709-a54ff8068ccd"
      },
      "source": [
        "#f string\n",
        "f\"값은 : {a}\""
      ],
      "execution_count": 54,
      "outputs": [
        {
          "output_type": "execute_result",
          "data": {
            "application/vnd.google.colaboratory.intrinsic+json": {
              "type": "string"
            },
            "text/plain": [
              "'값은 : 0.2857142857142857'"
            ]
          },
          "metadata": {
            "tags": []
          },
          "execution_count": 54
        }
      ]
    },
    {
      "cell_type": "code",
      "metadata": {
        "colab": {
          "base_uri": "https://localhost:8080/",
          "height": 34
        },
        "id": "HbEcSIIXwhDK",
        "outputId": "3fa34078-1778-4033-e81a-132bb0c2dddc"
      },
      "source": [
        "f\"값은 : {a:.2f}\""
      ],
      "execution_count": 57,
      "outputs": [
        {
          "output_type": "execute_result",
          "data": {
            "application/vnd.google.colaboratory.intrinsic+json": {
              "type": "string"
            },
            "text/plain": [
              "'값은 : 0.29'"
            ]
          },
          "metadata": {
            "tags": []
          },
          "execution_count": 57
        }
      ]
    },
    {
      "cell_type": "code",
      "metadata": {
        "colab": {
          "base_uri": "https://localhost:8080/",
          "height": 170
        },
        "id": "rD8KuzMvv3Xd",
        "outputId": "5e44ba62-52e7-4d62-8503-bb067f9fe87f"
      },
      "source": [
        "print(\"a값은 :\" + a)"
      ],
      "execution_count": 50,
      "outputs": [
        {
          "output_type": "error",
          "ename": "TypeError",
          "evalue": "ignored",
          "traceback": [
            "\u001b[0;31m---------------------------------------------------------------------------\u001b[0m",
            "\u001b[0;31mTypeError\u001b[0m                                 Traceback (most recent call last)",
            "\u001b[0;32m<ipython-input-50-c100ab26790f>\u001b[0m in \u001b[0;36m<module>\u001b[0;34m()\u001b[0m\n\u001b[0;32m----> 1\u001b[0;31m \u001b[0mprint\u001b[0m\u001b[0;34m(\u001b[0m\u001b[0;34m\"a값은 :\"\u001b[0m \u001b[0;34m+\u001b[0m \u001b[0ma\u001b[0m\u001b[0;34m)\u001b[0m\u001b[0;34m\u001b[0m\u001b[0;34m\u001b[0m\u001b[0m\n\u001b[0m",
            "\u001b[0;31mTypeError\u001b[0m: can only concatenate str (not \"float\") to str"
          ]
        }
      ]
    },
    {
      "cell_type": "code",
      "metadata": {
        "colab": {
          "base_uri": "https://localhost:8080/"
        },
        "id": "wDJ1hj78wQbE",
        "outputId": "b939b473-a5c6-46ad-fce4-34dc6ccf63fb"
      },
      "source": [
        "print(\"a값은 :\" + str(a))"
      ],
      "execution_count": 53,
      "outputs": [
        {
          "output_type": "stream",
          "text": [
            "a값은 :0.2857142857142857\n"
          ],
          "name": "stdout"
        }
      ]
    },
    {
      "cell_type": "code",
      "metadata": {
        "id": "vgvv7QVswgNB"
      },
      "source": [
        ""
      ],
      "execution_count": null,
      "outputs": []
    },
    {
      "cell_type": "markdown",
      "metadata": {
        "id": "A2VJZremlhbN"
      },
      "source": [
        "2.2 이상치 처리\n",
        "수치형 데이터에 이상한 값이 없는지 한번 확인해보도록 하겠습니다."
      ]
    },
    {
      "cell_type": "code",
      "metadata": {
        "colab": {
          "base_uri": "https://localhost:8080/",
          "height": 294
        },
        "id": "8uOX8uiZjyhe",
        "outputId": "b339144c-b509-46f4-d6bb-9f9dc606f6bf"
      },
      "source": [
        "train.describe()"
      ],
      "execution_count": 40,
      "outputs": [
        {
          "output_type": "execute_result",
          "data": {
            "text/html": [
              "<div>\n",
              "<style scoped>\n",
              "    .dataframe tbody tr th:only-of-type {\n",
              "        vertical-align: middle;\n",
              "    }\n",
              "\n",
              "    .dataframe tbody tr th {\n",
              "        vertical-align: top;\n",
              "    }\n",
              "\n",
              "    .dataframe thead th {\n",
              "        text-align: right;\n",
              "    }\n",
              "</style>\n",
              "<table border=\"1\" class=\"dataframe\">\n",
              "  <thead>\n",
              "    <tr style=\"text-align: right;\">\n",
              "      <th></th>\n",
              "      <th>id</th>\n",
              "      <th>age</th>\n",
              "      <th>fnlwgt</th>\n",
              "      <th>education_num</th>\n",
              "      <th>capital_gain</th>\n",
              "      <th>capital_loss</th>\n",
              "      <th>hours_per_week</th>\n",
              "    </tr>\n",
              "  </thead>\n",
              "  <tbody>\n",
              "    <tr>\n",
              "      <th>count</th>\n",
              "      <td>26049.000000</td>\n",
              "      <td>26049.000000</td>\n",
              "      <td>2.604900e+04</td>\n",
              "      <td>26049.000000</td>\n",
              "      <td>26049.00000</td>\n",
              "      <td>26049.000000</td>\n",
              "      <td>26049.000000</td>\n",
              "    </tr>\n",
              "    <tr>\n",
              "      <th>mean</th>\n",
              "      <td>13024.000000</td>\n",
              "      <td>38.569235</td>\n",
              "      <td>1.903045e+05</td>\n",
              "      <td>10.088372</td>\n",
              "      <td>1087.68970</td>\n",
              "      <td>87.732734</td>\n",
              "      <td>40.443126</td>\n",
              "    </tr>\n",
              "    <tr>\n",
              "      <th>std</th>\n",
              "      <td>7519.842917</td>\n",
              "      <td>13.671489</td>\n",
              "      <td>1.059663e+05</td>\n",
              "      <td>2.567610</td>\n",
              "      <td>7388.85469</td>\n",
              "      <td>403.230205</td>\n",
              "      <td>12.361850</td>\n",
              "    </tr>\n",
              "    <tr>\n",
              "      <th>min</th>\n",
              "      <td>0.000000</td>\n",
              "      <td>17.000000</td>\n",
              "      <td>1.376900e+04</td>\n",
              "      <td>1.000000</td>\n",
              "      <td>0.00000</td>\n",
              "      <td>0.000000</td>\n",
              "      <td>1.000000</td>\n",
              "    </tr>\n",
              "    <tr>\n",
              "      <th>25%</th>\n",
              "      <td>6512.000000</td>\n",
              "      <td>28.000000</td>\n",
              "      <td>1.181080e+05</td>\n",
              "      <td>9.000000</td>\n",
              "      <td>0.00000</td>\n",
              "      <td>0.000000</td>\n",
              "      <td>40.000000</td>\n",
              "    </tr>\n",
              "    <tr>\n",
              "      <th>50%</th>\n",
              "      <td>13024.000000</td>\n",
              "      <td>37.000000</td>\n",
              "      <td>1.788660e+05</td>\n",
              "      <td>10.000000</td>\n",
              "      <td>0.00000</td>\n",
              "      <td>0.000000</td>\n",
              "      <td>40.000000</td>\n",
              "    </tr>\n",
              "    <tr>\n",
              "      <th>75%</th>\n",
              "      <td>19536.000000</td>\n",
              "      <td>48.000000</td>\n",
              "      <td>2.377350e+05</td>\n",
              "      <td>12.000000</td>\n",
              "      <td>0.00000</td>\n",
              "      <td>0.000000</td>\n",
              "      <td>45.000000</td>\n",
              "    </tr>\n",
              "    <tr>\n",
              "      <th>max</th>\n",
              "      <td>26048.000000</td>\n",
              "      <td>90.000000</td>\n",
              "      <td>1.484705e+06</td>\n",
              "      <td>16.000000</td>\n",
              "      <td>99999.00000</td>\n",
              "      <td>4356.000000</td>\n",
              "      <td>99.000000</td>\n",
              "    </tr>\n",
              "  </tbody>\n",
              "</table>\n",
              "</div>"
            ],
            "text/plain": [
              "                 id           age  ...  capital_loss  hours_per_week\n",
              "count  26049.000000  26049.000000  ...  26049.000000    26049.000000\n",
              "mean   13024.000000     38.569235  ...     87.732734       40.443126\n",
              "std     7519.842917     13.671489  ...    403.230205       12.361850\n",
              "min        0.000000     17.000000  ...      0.000000        1.000000\n",
              "25%     6512.000000     28.000000  ...      0.000000       40.000000\n",
              "50%    13024.000000     37.000000  ...      0.000000       40.000000\n",
              "75%    19536.000000     48.000000  ...      0.000000       45.000000\n",
              "max    26048.000000     90.000000  ...   4356.000000       99.000000\n",
              "\n",
              "[8 rows x 7 columns]"
            ]
          },
          "metadata": {
            "tags": []
          },
          "execution_count": 40
        }
      ]
    },
    {
      "cell_type": "code",
      "metadata": {
        "id": "bxRjWDBezSMQ"
      },
      "source": [
        "# 힌트 않나올때 직접 함수 쳐서 확인 끝에 ?\n",
        "# ?? 내부 코드 나옴\n",
        "pd.Series.sort_values?"
      ],
      "execution_count": 64,
      "outputs": []
    },
    {
      "cell_type": "code",
      "metadata": {
        "colab": {
          "base_uri": "https://localhost:8080/",
          "height": 551
        },
        "id": "oWglWWXmlogT",
        "outputId": "3e374ad7-736a-4023-fef8-66757d98fa78"
      },
      "source": [
        "train.loc[train.capital_gain < 99999].sort_values('capital_gain', ascending=False)"
      ],
      "execution_count": 41,
      "outputs": [
        {
          "output_type": "execute_result",
          "data": {
            "text/html": [
              "<div>\n",
              "<style scoped>\n",
              "    .dataframe tbody tr th:only-of-type {\n",
              "        vertical-align: middle;\n",
              "    }\n",
              "\n",
              "    .dataframe tbody tr th {\n",
              "        vertical-align: top;\n",
              "    }\n",
              "\n",
              "    .dataframe thead th {\n",
              "        text-align: right;\n",
              "    }\n",
              "</style>\n",
              "<table border=\"1\" class=\"dataframe\">\n",
              "  <thead>\n",
              "    <tr style=\"text-align: right;\">\n",
              "      <th></th>\n",
              "      <th>id</th>\n",
              "      <th>age</th>\n",
              "      <th>workclass</th>\n",
              "      <th>fnlwgt</th>\n",
              "      <th>education</th>\n",
              "      <th>education_num</th>\n",
              "      <th>marital_status</th>\n",
              "      <th>occupation</th>\n",
              "      <th>relationship</th>\n",
              "      <th>race</th>\n",
              "      <th>sex</th>\n",
              "      <th>capital_gain</th>\n",
              "      <th>capital_loss</th>\n",
              "      <th>hours_per_week</th>\n",
              "      <th>native_country</th>\n",
              "      <th>income</th>\n",
              "    </tr>\n",
              "  </thead>\n",
              "  <tbody>\n",
              "    <tr>\n",
              "      <th>13280</th>\n",
              "      <td>13280</td>\n",
              "      <td>27</td>\n",
              "      <td>Private</td>\n",
              "      <td>211032</td>\n",
              "      <td>Preschool</td>\n",
              "      <td>1</td>\n",
              "      <td>Married-civ-spouse</td>\n",
              "      <td>Farming-fishing</td>\n",
              "      <td>Other-relative</td>\n",
              "      <td>White</td>\n",
              "      <td>Male</td>\n",
              "      <td>41310</td>\n",
              "      <td>0</td>\n",
              "      <td>24</td>\n",
              "      <td>Mexico</td>\n",
              "      <td>&lt;=50K</td>\n",
              "    </tr>\n",
              "    <tr>\n",
              "      <th>12625</th>\n",
              "      <td>12625</td>\n",
              "      <td>19</td>\n",
              "      <td>Private</td>\n",
              "      <td>188815</td>\n",
              "      <td>HS-grad</td>\n",
              "      <td>9</td>\n",
              "      <td>Never-married</td>\n",
              "      <td>Other-service</td>\n",
              "      <td>Own-child</td>\n",
              "      <td>White</td>\n",
              "      <td>Female</td>\n",
              "      <td>34095</td>\n",
              "      <td>0</td>\n",
              "      <td>20</td>\n",
              "      <td>United-States</td>\n",
              "      <td>&lt;=50K</td>\n",
              "    </tr>\n",
              "    <tr>\n",
              "      <th>2893</th>\n",
              "      <td>2893</td>\n",
              "      <td>17</td>\n",
              "      <td>?</td>\n",
              "      <td>304873</td>\n",
              "      <td>10th</td>\n",
              "      <td>6</td>\n",
              "      <td>Never-married</td>\n",
              "      <td>?</td>\n",
              "      <td>Own-child</td>\n",
              "      <td>White</td>\n",
              "      <td>Female</td>\n",
              "      <td>34095</td>\n",
              "      <td>0</td>\n",
              "      <td>32</td>\n",
              "      <td>United-States</td>\n",
              "      <td>&lt;=50K</td>\n",
              "    </tr>\n",
              "    <tr>\n",
              "      <th>17707</th>\n",
              "      <td>17707</td>\n",
              "      <td>20</td>\n",
              "      <td>?</td>\n",
              "      <td>273701</td>\n",
              "      <td>Some-college</td>\n",
              "      <td>10</td>\n",
              "      <td>Never-married</td>\n",
              "      <td>?</td>\n",
              "      <td>Other-relative</td>\n",
              "      <td>Black</td>\n",
              "      <td>Male</td>\n",
              "      <td>34095</td>\n",
              "      <td>0</td>\n",
              "      <td>10</td>\n",
              "      <td>United-States</td>\n",
              "      <td>&lt;=50K</td>\n",
              "    </tr>\n",
              "    <tr>\n",
              "      <th>4703</th>\n",
              "      <td>4703</td>\n",
              "      <td>55</td>\n",
              "      <td>Self-emp-not-inc</td>\n",
              "      <td>145574</td>\n",
              "      <td>HS-grad</td>\n",
              "      <td>9</td>\n",
              "      <td>Divorced</td>\n",
              "      <td>Exec-managerial</td>\n",
              "      <td>Not-in-family</td>\n",
              "      <td>White</td>\n",
              "      <td>Male</td>\n",
              "      <td>34095</td>\n",
              "      <td>0</td>\n",
              "      <td>60</td>\n",
              "      <td>United-States</td>\n",
              "      <td>&lt;=50K</td>\n",
              "    </tr>\n",
              "    <tr>\n",
              "      <th>...</th>\n",
              "      <td>...</td>\n",
              "      <td>...</td>\n",
              "      <td>...</td>\n",
              "      <td>...</td>\n",
              "      <td>...</td>\n",
              "      <td>...</td>\n",
              "      <td>...</td>\n",
              "      <td>...</td>\n",
              "      <td>...</td>\n",
              "      <td>...</td>\n",
              "      <td>...</td>\n",
              "      <td>...</td>\n",
              "      <td>...</td>\n",
              "      <td>...</td>\n",
              "      <td>...</td>\n",
              "      <td>...</td>\n",
              "    </tr>\n",
              "    <tr>\n",
              "      <th>9047</th>\n",
              "      <td>9047</td>\n",
              "      <td>48</td>\n",
              "      <td>Private</td>\n",
              "      <td>180446</td>\n",
              "      <td>10th</td>\n",
              "      <td>6</td>\n",
              "      <td>Married-civ-spouse</td>\n",
              "      <td>Machine-op-inspct</td>\n",
              "      <td>Husband</td>\n",
              "      <td>Black</td>\n",
              "      <td>Male</td>\n",
              "      <td>0</td>\n",
              "      <td>0</td>\n",
              "      <td>40</td>\n",
              "      <td>United-States</td>\n",
              "      <td>&lt;=50K</td>\n",
              "    </tr>\n",
              "    <tr>\n",
              "      <th>9046</th>\n",
              "      <td>9046</td>\n",
              "      <td>28</td>\n",
              "      <td>Private</td>\n",
              "      <td>273269</td>\n",
              "      <td>Some-college</td>\n",
              "      <td>10</td>\n",
              "      <td>Never-married</td>\n",
              "      <td>Craft-repair</td>\n",
              "      <td>Not-in-family</td>\n",
              "      <td>Black</td>\n",
              "      <td>Male</td>\n",
              "      <td>0</td>\n",
              "      <td>0</td>\n",
              "      <td>40</td>\n",
              "      <td>United-States</td>\n",
              "      <td>&lt;=50K</td>\n",
              "    </tr>\n",
              "    <tr>\n",
              "      <th>9045</th>\n",
              "      <td>9045</td>\n",
              "      <td>36</td>\n",
              "      <td>Self-emp-not-inc</td>\n",
              "      <td>34180</td>\n",
              "      <td>HS-grad</td>\n",
              "      <td>9</td>\n",
              "      <td>Never-married</td>\n",
              "      <td>Farming-fishing</td>\n",
              "      <td>Not-in-family</td>\n",
              "      <td>White</td>\n",
              "      <td>Male</td>\n",
              "      <td>0</td>\n",
              "      <td>0</td>\n",
              "      <td>70</td>\n",
              "      <td>United-States</td>\n",
              "      <td>&gt;50K</td>\n",
              "    </tr>\n",
              "    <tr>\n",
              "      <th>9044</th>\n",
              "      <td>9044</td>\n",
              "      <td>23</td>\n",
              "      <td>?</td>\n",
              "      <td>283806</td>\n",
              "      <td>9th</td>\n",
              "      <td>5</td>\n",
              "      <td>Divorced</td>\n",
              "      <td>?</td>\n",
              "      <td>Not-in-family</td>\n",
              "      <td>White</td>\n",
              "      <td>Female</td>\n",
              "      <td>0</td>\n",
              "      <td>0</td>\n",
              "      <td>35</td>\n",
              "      <td>United-States</td>\n",
              "      <td>&lt;=50K</td>\n",
              "    </tr>\n",
              "    <tr>\n",
              "      <th>26048</th>\n",
              "      <td>26048</td>\n",
              "      <td>20</td>\n",
              "      <td>?</td>\n",
              "      <td>99891</td>\n",
              "      <td>Some-college</td>\n",
              "      <td>10</td>\n",
              "      <td>Never-married</td>\n",
              "      <td>?</td>\n",
              "      <td>Own-child</td>\n",
              "      <td>White</td>\n",
              "      <td>Female</td>\n",
              "      <td>0</td>\n",
              "      <td>0</td>\n",
              "      <td>30</td>\n",
              "      <td>United-States</td>\n",
              "      <td>&lt;=50K</td>\n",
              "    </tr>\n",
              "  </tbody>\n",
              "</table>\n",
              "<p>25922 rows × 16 columns</p>\n",
              "</div>"
            ],
            "text/plain": [
              "          id  age         workclass  ...  hours_per_week native_country  income\n",
              "13280  13280   27           Private  ...              24         Mexico   <=50K\n",
              "12625  12625   19           Private  ...              20  United-States   <=50K\n",
              "2893    2893   17                 ?  ...              32  United-States   <=50K\n",
              "17707  17707   20                 ?  ...              10  United-States   <=50K\n",
              "4703    4703   55  Self-emp-not-inc  ...              60  United-States   <=50K\n",
              "...      ...  ...               ...  ...             ...            ...     ...\n",
              "9047    9047   48           Private  ...              40  United-States   <=50K\n",
              "9046    9046   28           Private  ...              40  United-States   <=50K\n",
              "9045    9045   36  Self-emp-not-inc  ...              70  United-States    >50K\n",
              "9044    9044   23                 ?  ...              35  United-States   <=50K\n",
              "26048  26048   20                 ?  ...              30  United-States   <=50K\n",
              "\n",
              "[25922 rows x 16 columns]"
            ]
          },
          "metadata": {
            "tags": []
          },
          "execution_count": 41
        }
      ]
    },
    {
      "cell_type": "code",
      "metadata": {
        "colab": {
          "base_uri": "https://localhost:8080/"
        },
        "id": "NDjbjkQ6lqNa",
        "outputId": "7ac3bfe1-b415-4e65-f29f-a0a18acaf388"
      },
      "source": [
        "train.loc[train.capital_gain == 99999, 'income']"
      ],
      "execution_count": 62,
      "outputs": [
        {
          "output_type": "execute_result",
          "data": {
            "text/plain": [
              "227      >50K\n",
              "430      >50K\n",
              "848      >50K\n",
              "852      >50K\n",
              "1209     >50K\n",
              "         ... \n",
              "25535    >50K\n",
              "25648    >50K\n",
              "25705    >50K\n",
              "25824    >50K\n",
              "25987    >50K\n",
              "Name: income, Length: 127, dtype: object"
            ]
          },
          "metadata": {
            "tags": []
          },
          "execution_count": 62
        }
      ]
    },
    {
      "cell_type": "code",
      "metadata": {
        "colab": {
          "base_uri": "https://localhost:8080/"
        },
        "id": "PJQPhjuyyNTE",
        "outputId": "08f81c21-bb2b-4a6b-f982-3821e1aae11f"
      },
      "source": [
        "sum(train.loc[train.capital_gain == 99999, 'income']==1)"
      ],
      "execution_count": 63,
      "outputs": [
        {
          "output_type": "execute_result",
          "data": {
            "text/plain": [
              "0"
            ]
          },
          "metadata": {
            "tags": []
          },
          "execution_count": 63
        }
      ]
    },
    {
      "cell_type": "markdown",
      "metadata": {
        "id": "7bvtIFKJ1-4i"
      },
      "source": [
        "log 표현"
      ]
    },
    {
      "cell_type": "code",
      "metadata": {
        "id": "nayRVJ9MySxj"
      },
      "source": [
        "train[\"log_capital_gain\"] = train.capital_gain.map(lambda x: np.log(x, where=(x!=0)))"
      ],
      "execution_count": 65,
      "outputs": []
    },
    {
      "cell_type": "code",
      "metadata": {
        "colab": {
          "base_uri": "https://localhost:8080/",
          "height": 414
        },
        "id": "fsEdYpBU25Xh",
        "outputId": "162ca0bc-af89-468d-d2e3-008861b14618"
      },
      "source": [
        "#처리후'capital_gain', 'log_capital_gain' 보기\n",
        "train[['capital_gain', 'log_capital_gain']]"
      ],
      "execution_count": 68,
      "outputs": [
        {
          "output_type": "execute_result",
          "data": {
            "text/html": [
              "<div>\n",
              "<style scoped>\n",
              "    .dataframe tbody tr th:only-of-type {\n",
              "        vertical-align: middle;\n",
              "    }\n",
              "\n",
              "    .dataframe tbody tr th {\n",
              "        vertical-align: top;\n",
              "    }\n",
              "\n",
              "    .dataframe thead th {\n",
              "        text-align: right;\n",
              "    }\n",
              "</style>\n",
              "<table border=\"1\" class=\"dataframe\">\n",
              "  <thead>\n",
              "    <tr style=\"text-align: right;\">\n",
              "      <th></th>\n",
              "      <th>capital_gain</th>\n",
              "      <th>log_capital_gain</th>\n",
              "    </tr>\n",
              "  </thead>\n",
              "  <tbody>\n",
              "    <tr>\n",
              "      <th>0</th>\n",
              "      <td>0</td>\n",
              "      <td>4.654892e-310</td>\n",
              "    </tr>\n",
              "    <tr>\n",
              "      <th>1</th>\n",
              "      <td>0</td>\n",
              "      <td>0.000000e+00</td>\n",
              "    </tr>\n",
              "    <tr>\n",
              "      <th>2</th>\n",
              "      <td>0</td>\n",
              "      <td>0.000000e+00</td>\n",
              "    </tr>\n",
              "    <tr>\n",
              "      <th>3</th>\n",
              "      <td>0</td>\n",
              "      <td>0.000000e+00</td>\n",
              "    </tr>\n",
              "    <tr>\n",
              "      <th>4</th>\n",
              "      <td>0</td>\n",
              "      <td>0.000000e+00</td>\n",
              "    </tr>\n",
              "    <tr>\n",
              "      <th>...</th>\n",
              "      <td>...</td>\n",
              "      <td>...</td>\n",
              "    </tr>\n",
              "    <tr>\n",
              "      <th>26044</th>\n",
              "      <td>0</td>\n",
              "      <td>0.000000e+00</td>\n",
              "    </tr>\n",
              "    <tr>\n",
              "      <th>26045</th>\n",
              "      <td>0</td>\n",
              "      <td>0.000000e+00</td>\n",
              "    </tr>\n",
              "    <tr>\n",
              "      <th>26046</th>\n",
              "      <td>0</td>\n",
              "      <td>0.000000e+00</td>\n",
              "    </tr>\n",
              "    <tr>\n",
              "      <th>26047</th>\n",
              "      <td>0</td>\n",
              "      <td>0.000000e+00</td>\n",
              "    </tr>\n",
              "    <tr>\n",
              "      <th>26048</th>\n",
              "      <td>0</td>\n",
              "      <td>0.000000e+00</td>\n",
              "    </tr>\n",
              "  </tbody>\n",
              "</table>\n",
              "<p>26049 rows × 2 columns</p>\n",
              "</div>"
            ],
            "text/plain": [
              "       capital_gain  log_capital_gain\n",
              "0                 0     4.654892e-310\n",
              "1                 0      0.000000e+00\n",
              "2                 0      0.000000e+00\n",
              "3                 0      0.000000e+00\n",
              "4                 0      0.000000e+00\n",
              "...             ...               ...\n",
              "26044             0      0.000000e+00\n",
              "26045             0      0.000000e+00\n",
              "26046             0      0.000000e+00\n",
              "26047             0      0.000000e+00\n",
              "26048             0      0.000000e+00\n",
              "\n",
              "[26049 rows x 2 columns]"
            ]
          },
          "metadata": {
            "tags": []
          },
          "execution_count": 68
        }
      ]
    },
    {
      "cell_type": "code",
      "metadata": {
        "colab": {
          "base_uri": "https://localhost:8080/",
          "height": 294
        },
        "id": "zHE0iDrm2DcE",
        "outputId": "d0a1105d-2453-4a01-aa52-bc5b703dc225"
      },
      "source": [
        "#처리후'capital_gain', 'log_capital_gain' 보기\n",
        "train[['capital_gain', 'log_capital_gain']].describe()"
      ],
      "execution_count": 66,
      "outputs": [
        {
          "output_type": "execute_result",
          "data": {
            "text/html": [
              "<div>\n",
              "<style scoped>\n",
              "    .dataframe tbody tr th:only-of-type {\n",
              "        vertical-align: middle;\n",
              "    }\n",
              "\n",
              "    .dataframe tbody tr th {\n",
              "        vertical-align: top;\n",
              "    }\n",
              "\n",
              "    .dataframe thead th {\n",
              "        text-align: right;\n",
              "    }\n",
              "</style>\n",
              "<table border=\"1\" class=\"dataframe\">\n",
              "  <thead>\n",
              "    <tr style=\"text-align: right;\">\n",
              "      <th></th>\n",
              "      <th>capital_gain</th>\n",
              "      <th>log_capital_gain</th>\n",
              "    </tr>\n",
              "  </thead>\n",
              "  <tbody>\n",
              "    <tr>\n",
              "      <th>count</th>\n",
              "      <td>26049.00000</td>\n",
              "      <td>26049.000000</td>\n",
              "    </tr>\n",
              "    <tr>\n",
              "      <th>mean</th>\n",
              "      <td>1087.68970</td>\n",
              "      <td>0.743290</td>\n",
              "    </tr>\n",
              "    <tr>\n",
              "      <th>std</th>\n",
              "      <td>7388.85469</td>\n",
              "      <td>2.468766</td>\n",
              "    </tr>\n",
              "    <tr>\n",
              "      <th>min</th>\n",
              "      <td>0.00000</td>\n",
              "      <td>0.000000</td>\n",
              "    </tr>\n",
              "    <tr>\n",
              "      <th>25%</th>\n",
              "      <td>0.00000</td>\n",
              "      <td>0.000000</td>\n",
              "    </tr>\n",
              "    <tr>\n",
              "      <th>50%</th>\n",
              "      <td>0.00000</td>\n",
              "      <td>0.000000</td>\n",
              "    </tr>\n",
              "    <tr>\n",
              "      <th>75%</th>\n",
              "      <td>0.00000</td>\n",
              "      <td>0.000000</td>\n",
              "    </tr>\n",
              "    <tr>\n",
              "      <th>max</th>\n",
              "      <td>99999.00000</td>\n",
              "      <td>11.512915</td>\n",
              "    </tr>\n",
              "  </tbody>\n",
              "</table>\n",
              "</div>"
            ],
            "text/plain": [
              "       capital_gain  log_capital_gain\n",
              "count   26049.00000      26049.000000\n",
              "mean     1087.68970          0.743290\n",
              "std      7388.85469          2.468766\n",
              "min         0.00000          0.000000\n",
              "25%         0.00000          0.000000\n",
              "50%         0.00000          0.000000\n",
              "75%         0.00000          0.000000\n",
              "max     99999.00000         11.512915"
            ]
          },
          "metadata": {
            "tags": []
          },
          "execution_count": 66
        }
      ]
    },
    {
      "cell_type": "code",
      "metadata": {
        "colab": {
          "base_uri": "https://localhost:8080/"
        },
        "id": "7nkwlGQa2PZo",
        "outputId": "0e7a443e-5cd8-4b0a-8c2a-4ccd6d0060f8"
      },
      "source": [
        "train.capital_gain.map(lambda x: np.log(x, where=(x!=0))).describe()"
      ],
      "execution_count": 67,
      "outputs": [
        {
          "output_type": "execute_result",
          "data": {
            "text/plain": [
              "count    26049.000000\n",
              "mean         0.743290\n",
              "std          2.468766\n",
              "min          0.000000\n",
              "25%          0.000000\n",
              "50%          0.000000\n",
              "75%          0.000000\n",
              "max         11.512915\n",
              "Name: capital_gain, dtype: float64"
            ]
          },
          "metadata": {
            "tags": []
          },
          "execution_count": 67
        }
      ]
    },
    {
      "cell_type": "code",
      "metadata": {
        "id": "s1PJO5Ab2RSD"
      },
      "source": [
        "|"
      ],
      "execution_count": null,
      "outputs": []
    },
    {
      "cell_type": "markdown",
      "metadata": {
        "id": "nO2_L2X23LCv"
      },
      "source": [
        "2.3 Scaling\n",
        "Min-max Scaler: 범위가 정해진 값이 필요할 때\n",
        "아웃라이어에 민감함\n",
        "\n",
        "Standard Scaler: 평균을 0, 표준편차를 1로 맞추어 정규분포의 특성을 가지도록 만듦\n",
        "아웃라이어에 영향을 덜 받음"
      ]
    },
    {
      "cell_type": "code",
      "metadata": {
        "id": "pjhTLkeF3NdJ"
      },
      "source": [
        "from sklearn.preprocessing import MinMaxScaler, StandardScaler\n",
        "\n",
        "# MinMaxScaler()  ()안에 범위 지정 가능\n",
        "mm_scaler = MinMaxScaler()\n",
        "st_scaler = StandardScaler()"
      ],
      "execution_count": 70,
      "outputs": []
    },
    {
      "cell_type": "code",
      "metadata": {
        "colab": {
          "base_uri": "https://localhost:8080/"
        },
        "id": "4pwJ9qxG3wXv",
        "outputId": "741ccd2a-2b8d-44db-bbe7-e8c17111f339"
      },
      "source": [
        "mm_scaler"
      ],
      "execution_count": 74,
      "outputs": [
        {
          "output_type": "execute_result",
          "data": {
            "text/plain": [
              "MinMaxScaler(copy=True, feature_range=(0, 1))"
            ]
          },
          "metadata": {
            "tags": []
          },
          "execution_count": 74
        }
      ]
    },
    {
      "cell_type": "code",
      "metadata": {
        "colab": {
          "base_uri": "https://localhost:8080/"
        },
        "id": "P_X5e8CI4n2B",
        "outputId": "6d294739-df49-4438-b8e8-7343a870c816"
      },
      "source": [
        "train['fnlwgt']"
      ],
      "execution_count": 77,
      "outputs": [
        {
          "output_type": "execute_result",
          "data": {
            "text/plain": [
              "0        168538\n",
              "1        101626\n",
              "2        353358\n",
              "3        151158\n",
              "4        122234\n",
              "          ...  \n",
              "26044    250201\n",
              "26045    238092\n",
              "26046    165694\n",
              "26047    151626\n",
              "26048     99891\n",
              "Name: fnlwgt, Length: 26049, dtype: int64"
            ]
          },
          "metadata": {
            "tags": []
          },
          "execution_count": 77
        }
      ]
    },
    {
      "cell_type": "code",
      "metadata": {
        "colab": {
          "base_uri": "https://localhost:8080/"
        },
        "id": "xlSSbh3x4uBS",
        "outputId": "64cc7ab0-a2ff-42d7-8f83-71e9bb310c5d"
      },
      "source": [
        "train['fnlwgt'].values"
      ],
      "execution_count": 78,
      "outputs": [
        {
          "output_type": "execute_result",
          "data": {
            "text/plain": [
              "array([168538, 101626, 353358, ..., 165694, 151626,  99891])"
            ]
          },
          "metadata": {
            "tags": []
          },
          "execution_count": 78
        }
      ]
    },
    {
      "cell_type": "code",
      "metadata": {
        "colab": {
          "base_uri": "https://localhost:8080/"
        },
        "id": "Q7p2KNbB44Qz",
        "outputId": "51dddcc0-e0cb-440a-8981-bd74e1e708e6"
      },
      "source": [
        "type(train['fnlwgt'].values)"
      ],
      "execution_count": 79,
      "outputs": [
        {
          "output_type": "execute_result",
          "data": {
            "text/plain": [
              "numpy.ndarray"
            ]
          },
          "metadata": {
            "tags": []
          },
          "execution_count": 79
        }
      ]
    },
    {
      "cell_type": "code",
      "metadata": {
        "colab": {
          "base_uri": "https://localhost:8080/"
        },
        "id": "U5P8LcAK5F9b",
        "outputId": "84a0065b-477f-41b6-b1f0-b23de98115b6"
      },
      "source": [
        "train['fnlwgt'].values.shape"
      ],
      "execution_count": 83,
      "outputs": [
        {
          "output_type": "execute_result",
          "data": {
            "text/plain": [
              "(26049,)"
            ]
          },
          "metadata": {
            "tags": []
          },
          "execution_count": 83
        }
      ]
    },
    {
      "cell_type": "code",
      "metadata": {
        "colab": {
          "base_uri": "https://localhost:8080/"
        },
        "id": "pXxSyPA_5PYj",
        "outputId": "36d3e20b-2ec9-4bc6-834a-0fdda55b89b2"
      },
      "source": [
        "type(train['fnlwgt'].values.reshape(-1,1))"
      ],
      "execution_count": 82,
      "outputs": [
        {
          "output_type": "execute_result",
          "data": {
            "text/plain": [
              "numpy.ndarray"
            ]
          },
          "metadata": {
            "tags": []
          },
          "execution_count": 82
        }
      ]
    },
    {
      "cell_type": "code",
      "metadata": {
        "colab": {
          "base_uri": "https://localhost:8080/"
        },
        "id": "XPM9PSwr5efv",
        "outputId": "ed58c197-9c48-4397-c807-b2bc30dee79b"
      },
      "source": [
        "train['fnlwgt'].values.reshape(-1,1).shape"
      ],
      "execution_count": 85,
      "outputs": [
        {
          "output_type": "execute_result",
          "data": {
            "text/plain": [
              "(26049, 1)"
            ]
          },
          "metadata": {
            "tags": []
          },
          "execution_count": 85
        }
      ]
    },
    {
      "cell_type": "code",
      "metadata": {
        "colab": {
          "base_uri": "https://localhost:8080/"
        },
        "id": "e6jztBTQ33go",
        "outputId": "a869e4b7-32bc-4753-be53-e0667d70e1fa"
      },
      "source": [
        "#\n",
        "mm_scaler.fit_transform(train['fnlwgt'].values.reshape(-1,1))"
      ],
      "execution_count": 76,
      "outputs": [
        {
          "output_type": "execute_result",
          "data": {
            "text/plain": [
              "array([[0.10521804],\n",
              "       [0.05972864],\n",
              "       [0.23086592],\n",
              "       ...,\n",
              "       [0.10328458],\n",
              "       [0.0937206 ],\n",
              "       [0.05854911]])"
            ]
          },
          "metadata": {
            "tags": []
          },
          "execution_count": 76
        }
      ]
    },
    {
      "cell_type": "code",
      "metadata": {
        "id": "rva_FDte3R86"
      },
      "source": [
        "train['MM_fnlwgt'] = mm_scaler.fit_transform(train['fnlwgt'].values.reshape(-1,1))\n",
        "test['MM_fnlwgt'] = mm_scaler.transform(test['fnlwgt'].values.reshape(-1,1))\n",
        "\n",
        "train['MM_age'] = mm_scaler.fit_transform(train['age'].values.reshape(-1,1))\n",
        "test['MM_age'] = mm_scaler.transform(test['age'].values.reshape(-1,1))\n",
        "\n",
        "train['ST_fnlwgt'] = st_scaler.fit_transform(train['fnlwgt'].values.reshape(-1,1))\n",
        "test['ST_fnlwgt'] = st_scaler.transform(test['fnlwgt'].values.reshape(-1,1))\n",
        "\n",
        "train['ST_age'] = st_scaler.fit_transform(train['age'].values.reshape(-1,1))\n",
        "test['ST_age'] = st_scaler.transform(test['age'].values.reshape(-1,1))"
      ],
      "execution_count": 86,
      "outputs": []
    },
    {
      "cell_type": "code",
      "metadata": {
        "colab": {
          "base_uri": "https://localhost:8080/",
          "height": 294
        },
        "id": "g3wCt-Xd3brJ",
        "outputId": "d360351e-0426-4673-aa11-e013498ad295"
      },
      "source": [
        "train.describe()[['MM_fnlwgt', 'MM_age']]"
      ],
      "execution_count": 87,
      "outputs": [
        {
          "output_type": "execute_result",
          "data": {
            "text/html": [
              "<div>\n",
              "<style scoped>\n",
              "    .dataframe tbody tr th:only-of-type {\n",
              "        vertical-align: middle;\n",
              "    }\n",
              "\n",
              "    .dataframe tbody tr th {\n",
              "        vertical-align: top;\n",
              "    }\n",
              "\n",
              "    .dataframe thead th {\n",
              "        text-align: right;\n",
              "    }\n",
              "</style>\n",
              "<table border=\"1\" class=\"dataframe\">\n",
              "  <thead>\n",
              "    <tr style=\"text-align: right;\">\n",
              "      <th></th>\n",
              "      <th>MM_fnlwgt</th>\n",
              "      <th>MM_age</th>\n",
              "    </tr>\n",
              "  </thead>\n",
              "  <tbody>\n",
              "    <tr>\n",
              "      <th>count</th>\n",
              "      <td>26049.000000</td>\n",
              "      <td>26049.000000</td>\n",
              "    </tr>\n",
              "    <tr>\n",
              "      <th>mean</th>\n",
              "      <td>0.120016</td>\n",
              "      <td>0.295469</td>\n",
              "    </tr>\n",
              "    <tr>\n",
              "      <th>std</th>\n",
              "      <td>0.072040</td>\n",
              "      <td>0.187281</td>\n",
              "    </tr>\n",
              "    <tr>\n",
              "      <th>min</th>\n",
              "      <td>0.000000</td>\n",
              "      <td>0.000000</td>\n",
              "    </tr>\n",
              "    <tr>\n",
              "      <th>25%</th>\n",
              "      <td>0.070934</td>\n",
              "      <td>0.150685</td>\n",
              "    </tr>\n",
              "    <tr>\n",
              "      <th>50%</th>\n",
              "      <td>0.112239</td>\n",
              "      <td>0.273973</td>\n",
              "    </tr>\n",
              "    <tr>\n",
              "      <th>75%</th>\n",
              "      <td>0.152261</td>\n",
              "      <td>0.424658</td>\n",
              "    </tr>\n",
              "    <tr>\n",
              "      <th>max</th>\n",
              "      <td>1.000000</td>\n",
              "      <td>1.000000</td>\n",
              "    </tr>\n",
              "  </tbody>\n",
              "</table>\n",
              "</div>"
            ],
            "text/plain": [
              "          MM_fnlwgt        MM_age\n",
              "count  26049.000000  26049.000000\n",
              "mean       0.120016      0.295469\n",
              "std        0.072040      0.187281\n",
              "min        0.000000      0.000000\n",
              "25%        0.070934      0.150685\n",
              "50%        0.112239      0.273973\n",
              "75%        0.152261      0.424658\n",
              "max        1.000000      1.000000"
            ]
          },
          "metadata": {
            "tags": []
          },
          "execution_count": 87
        }
      ]
    },
    {
      "cell_type": "code",
      "metadata": {
        "colab": {
          "base_uri": "https://localhost:8080/",
          "height": 294
        },
        "id": "mSoCGTHo3dYZ",
        "outputId": "9f3b2697-4efe-4b5a-aea9-6c7fa303bbe6"
      },
      "source": [
        "train.describe()[['ST_fnlwgt', 'ST_age']].round(6)"
      ],
      "execution_count": 88,
      "outputs": [
        {
          "output_type": "execute_result",
          "data": {
            "text/html": [
              "<div>\n",
              "<style scoped>\n",
              "    .dataframe tbody tr th:only-of-type {\n",
              "        vertical-align: middle;\n",
              "    }\n",
              "\n",
              "    .dataframe tbody tr th {\n",
              "        vertical-align: top;\n",
              "    }\n",
              "\n",
              "    .dataframe thead th {\n",
              "        text-align: right;\n",
              "    }\n",
              "</style>\n",
              "<table border=\"1\" class=\"dataframe\">\n",
              "  <thead>\n",
              "    <tr style=\"text-align: right;\">\n",
              "      <th></th>\n",
              "      <th>ST_fnlwgt</th>\n",
              "      <th>ST_age</th>\n",
              "    </tr>\n",
              "  </thead>\n",
              "  <tbody>\n",
              "    <tr>\n",
              "      <th>count</th>\n",
              "      <td>26049.000000</td>\n",
              "      <td>26049.000000</td>\n",
              "    </tr>\n",
              "    <tr>\n",
              "      <th>mean</th>\n",
              "      <td>-0.000000</td>\n",
              "      <td>-0.000000</td>\n",
              "    </tr>\n",
              "    <tr>\n",
              "      <th>std</th>\n",
              "      <td>1.000019</td>\n",
              "      <td>1.000019</td>\n",
              "    </tr>\n",
              "    <tr>\n",
              "      <th>min</th>\n",
              "      <td>-1.665991</td>\n",
              "      <td>-1.577710</td>\n",
              "    </tr>\n",
              "    <tr>\n",
              "      <th>25%</th>\n",
              "      <td>-0.681329</td>\n",
              "      <td>-0.773101</td>\n",
              "    </tr>\n",
              "    <tr>\n",
              "      <th>50%</th>\n",
              "      <td>-0.107947</td>\n",
              "      <td>-0.114784</td>\n",
              "    </tr>\n",
              "    <tr>\n",
              "      <th>75%</th>\n",
              "      <td>0.447609</td>\n",
              "      <td>0.689826</td>\n",
              "    </tr>\n",
              "    <tr>\n",
              "      <th>max</th>\n",
              "      <td>12.215444</td>\n",
              "      <td>3.761972</td>\n",
              "    </tr>\n",
              "  </tbody>\n",
              "</table>\n",
              "</div>"
            ],
            "text/plain": [
              "          ST_fnlwgt        ST_age\n",
              "count  26049.000000  26049.000000\n",
              "mean      -0.000000     -0.000000\n",
              "std        1.000019      1.000019\n",
              "min       -1.665991     -1.577710\n",
              "25%       -0.681329     -0.773101\n",
              "50%       -0.107947     -0.114784\n",
              "75%        0.447609      0.689826\n",
              "max       12.215444      3.761972"
            ]
          },
          "metadata": {
            "tags": []
          },
          "execution_count": 88
        }
      ]
    },
    {
      "cell_type": "code",
      "metadata": {
        "id": "FU7BexZi3fOR"
      },
      "source": [
        ""
      ],
      "execution_count": null,
      "outputs": []
    }
  ]
}